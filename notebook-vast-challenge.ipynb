{
 "cells": [
  {
   "cell_type": "code",
   "execution_count": 1,
   "metadata": {
    "ExecuteTime": {
     "end_time": "2018-10-11T08:25:51.001688Z",
     "start_time": "2018-10-11T08:25:50.502289Z"
    }
   },
   "outputs": [
    {
     "data": {
      "text/html": [
       "\n",
       "    <div class=\"bk-root\">\n",
       "        <a href=\"https://bokeh.pydata.org\" target=\"_blank\" class=\"bk-logo bk-logo-small bk-logo-notebook\"></a>\n",
       "        <span id=\"6a457fc2-ee64-4e7b-bc0d-aa3a2dc15beb\">Loading BokehJS ...</span>\n",
       "    </div>"
      ]
     },
     "metadata": {},
     "output_type": "display_data"
    },
    {
     "data": {
      "application/javascript": [
       "\n",
       "(function(root) {\n",
       "  function now() {\n",
       "    return new Date();\n",
       "  }\n",
       "\n",
       "  var force = true;\n",
       "\n",
       "  if (typeof (root._bokeh_onload_callbacks) === \"undefined\" || force === true) {\n",
       "    root._bokeh_onload_callbacks = [];\n",
       "    root._bokeh_is_loading = undefined;\n",
       "  }\n",
       "\n",
       "  var JS_MIME_TYPE = 'application/javascript';\n",
       "  var HTML_MIME_TYPE = 'text/html';\n",
       "  var EXEC_MIME_TYPE = 'application/vnd.bokehjs_exec.v0+json';\n",
       "  var CLASS_NAME = 'output_bokeh rendered_html';\n",
       "\n",
       "  /**\n",
       "   * Render data to the DOM node\n",
       "   */\n",
       "  function render(props, node) {\n",
       "    var script = document.createElement(\"script\");\n",
       "    node.appendChild(script);\n",
       "  }\n",
       "\n",
       "  /**\n",
       "   * Handle when an output is cleared or removed\n",
       "   */\n",
       "  function handleClearOutput(event, handle) {\n",
       "    var cell = handle.cell;\n",
       "\n",
       "    var id = cell.output_area._bokeh_element_id;\n",
       "    var server_id = cell.output_area._bokeh_server_id;\n",
       "    // Clean up Bokeh references\n",
       "    if (id !== undefined) {\n",
       "      Bokeh.index[id].model.document.clear();\n",
       "      delete Bokeh.index[id];\n",
       "    }\n",
       "\n",
       "    if (server_id !== undefined) {\n",
       "      // Clean up Bokeh references\n",
       "      var cmd = \"from bokeh.io.state import curstate; print(curstate().uuid_to_server['\" + server_id + \"'].get_sessions()[0].document.roots[0]._id)\";\n",
       "      cell.notebook.kernel.execute(cmd, {\n",
       "        iopub: {\n",
       "          output: function(msg) {\n",
       "            var element_id = msg.content.text.trim();\n",
       "            Bokeh.index[element_id].model.document.clear();\n",
       "            delete Bokeh.index[element_id];\n",
       "          }\n",
       "        }\n",
       "      });\n",
       "      // Destroy server and session\n",
       "      var cmd = \"import bokeh.io.notebook as ion; ion.destroy_server('\" + server_id + \"')\";\n",
       "      cell.notebook.kernel.execute(cmd);\n",
       "    }\n",
       "  }\n",
       "\n",
       "  /**\n",
       "   * Handle when a new output is added\n",
       "   */\n",
       "  function handleAddOutput(event, handle) {\n",
       "    var output_area = handle.output_area;\n",
       "    var output = handle.output;\n",
       "\n",
       "    // limit handleAddOutput to display_data with EXEC_MIME_TYPE content only\n",
       "    if ((output.output_type != \"display_data\") || (!output.data.hasOwnProperty(EXEC_MIME_TYPE))) {\n",
       "      return\n",
       "    }\n",
       "\n",
       "    var toinsert = output_area.element.find(\".\" + CLASS_NAME.split(' ')[0]);\n",
       "\n",
       "    if (output.metadata[EXEC_MIME_TYPE][\"id\"] !== undefined) {\n",
       "      toinsert[toinsert.length - 1].firstChild.textContent = output.data[JS_MIME_TYPE];\n",
       "      // store reference to embed id on output_area\n",
       "      output_area._bokeh_element_id = output.metadata[EXEC_MIME_TYPE][\"id\"];\n",
       "    }\n",
       "    if (output.metadata[EXEC_MIME_TYPE][\"server_id\"] !== undefined) {\n",
       "      var bk_div = document.createElement(\"div\");\n",
       "      bk_div.innerHTML = output.data[HTML_MIME_TYPE];\n",
       "      var script_attrs = bk_div.children[0].attributes;\n",
       "      for (var i = 0; i < script_attrs.length; i++) {\n",
       "        toinsert[toinsert.length - 1].firstChild.setAttribute(script_attrs[i].name, script_attrs[i].value);\n",
       "      }\n",
       "      // store reference to server id on output_area\n",
       "      output_area._bokeh_server_id = output.metadata[EXEC_MIME_TYPE][\"server_id\"];\n",
       "    }\n",
       "  }\n",
       "\n",
       "  function register_renderer(events, OutputArea) {\n",
       "\n",
       "    function append_mime(data, metadata, element) {\n",
       "      // create a DOM node to render to\n",
       "      var toinsert = this.create_output_subarea(\n",
       "        metadata,\n",
       "        CLASS_NAME,\n",
       "        EXEC_MIME_TYPE\n",
       "      );\n",
       "      this.keyboard_manager.register_events(toinsert);\n",
       "      // Render to node\n",
       "      var props = {data: data, metadata: metadata[EXEC_MIME_TYPE]};\n",
       "      render(props, toinsert[toinsert.length - 1]);\n",
       "      element.append(toinsert);\n",
       "      return toinsert\n",
       "    }\n",
       "\n",
       "    /* Handle when an output is cleared or removed */\n",
       "    events.on('clear_output.CodeCell', handleClearOutput);\n",
       "    events.on('delete.Cell', handleClearOutput);\n",
       "\n",
       "    /* Handle when a new output is added */\n",
       "    events.on('output_added.OutputArea', handleAddOutput);\n",
       "\n",
       "    /**\n",
       "     * Register the mime type and append_mime function with output_area\n",
       "     */\n",
       "    OutputArea.prototype.register_mime_type(EXEC_MIME_TYPE, append_mime, {\n",
       "      /* Is output safe? */\n",
       "      safe: true,\n",
       "      /* Index of renderer in `output_area.display_order` */\n",
       "      index: 0\n",
       "    });\n",
       "  }\n",
       "\n",
       "  // register the mime type if in Jupyter Notebook environment and previously unregistered\n",
       "  if (root.Jupyter !== undefined) {\n",
       "    var events = require('base/js/events');\n",
       "    var OutputArea = require('notebook/js/outputarea').OutputArea;\n",
       "\n",
       "    if (OutputArea.prototype.mime_types().indexOf(EXEC_MIME_TYPE) == -1) {\n",
       "      register_renderer(events, OutputArea);\n",
       "    }\n",
       "  }\n",
       "\n",
       "  \n",
       "  if (typeof (root._bokeh_timeout) === \"undefined\" || force === true) {\n",
       "    root._bokeh_timeout = Date.now() + 5000;\n",
       "    root._bokeh_failed_load = false;\n",
       "  }\n",
       "\n",
       "  var NB_LOAD_WARNING = {'data': {'text/html':\n",
       "     \"<div style='background-color: #fdd'>\\n\"+\n",
       "     \"<p>\\n\"+\n",
       "     \"BokehJS does not appear to have successfully loaded. If loading BokehJS from CDN, this \\n\"+\n",
       "     \"may be due to a slow or bad network connection. Possible fixes:\\n\"+\n",
       "     \"</p>\\n\"+\n",
       "     \"<ul>\\n\"+\n",
       "     \"<li>re-rerun `output_notebook()` to attempt to load from CDN again, or</li>\\n\"+\n",
       "     \"<li>use INLINE resources instead, as so:</li>\\n\"+\n",
       "     \"</ul>\\n\"+\n",
       "     \"<code>\\n\"+\n",
       "     \"from bokeh.resources import INLINE\\n\"+\n",
       "     \"output_notebook(resources=INLINE)\\n\"+\n",
       "     \"</code>\\n\"+\n",
       "     \"</div>\"}};\n",
       "\n",
       "  function display_loaded() {\n",
       "    var el = document.getElementById(\"6a457fc2-ee64-4e7b-bc0d-aa3a2dc15beb\");\n",
       "    if (el != null) {\n",
       "      el.textContent = \"BokehJS is loading...\";\n",
       "    }\n",
       "    if (root.Bokeh !== undefined) {\n",
       "      if (el != null) {\n",
       "        el.textContent = \"BokehJS \" + root.Bokeh.version + \" successfully loaded.\";\n",
       "      }\n",
       "    } else if (Date.now() < root._bokeh_timeout) {\n",
       "      setTimeout(display_loaded, 100)\n",
       "    }\n",
       "  }\n",
       "\n",
       "\n",
       "  function run_callbacks() {\n",
       "    try {\n",
       "      root._bokeh_onload_callbacks.forEach(function(callback) { callback() });\n",
       "    }\n",
       "    finally {\n",
       "      delete root._bokeh_onload_callbacks\n",
       "    }\n",
       "    console.info(\"Bokeh: all callbacks have finished\");\n",
       "  }\n",
       "\n",
       "  function load_libs(js_urls, callback) {\n",
       "    root._bokeh_onload_callbacks.push(callback);\n",
       "    if (root._bokeh_is_loading > 0) {\n",
       "      console.log(\"Bokeh: BokehJS is being loaded, scheduling callback at\", now());\n",
       "      return null;\n",
       "    }\n",
       "    if (js_urls == null || js_urls.length === 0) {\n",
       "      run_callbacks();\n",
       "      return null;\n",
       "    }\n",
       "    console.log(\"Bokeh: BokehJS not loaded, scheduling load and callback at\", now());\n",
       "    root._bokeh_is_loading = js_urls.length;\n",
       "    for (var i = 0; i < js_urls.length; i++) {\n",
       "      var url = js_urls[i];\n",
       "      var s = document.createElement('script');\n",
       "      s.src = url;\n",
       "      s.async = false;\n",
       "      s.onreadystatechange = s.onload = function() {\n",
       "        root._bokeh_is_loading--;\n",
       "        if (root._bokeh_is_loading === 0) {\n",
       "          console.log(\"Bokeh: all BokehJS libraries loaded\");\n",
       "          run_callbacks()\n",
       "        }\n",
       "      };\n",
       "      s.onerror = function() {\n",
       "        console.warn(\"failed to load library \" + url);\n",
       "      };\n",
       "      console.log(\"Bokeh: injecting script tag for BokehJS library: \", url);\n",
       "      document.getElementsByTagName(\"head\")[0].appendChild(s);\n",
       "    }\n",
       "  };var element = document.getElementById(\"6a457fc2-ee64-4e7b-bc0d-aa3a2dc15beb\");\n",
       "  if (element == null) {\n",
       "    console.log(\"Bokeh: ERROR: autoload.js configured with elementid '6a457fc2-ee64-4e7b-bc0d-aa3a2dc15beb' but no matching script tag was found. \")\n",
       "    return false;\n",
       "  }\n",
       "\n",
       "  var js_urls = [\"https://cdn.pydata.org/bokeh/release/bokeh-0.12.16.min.js\", \"https://cdn.pydata.org/bokeh/release/bokeh-widgets-0.12.16.min.js\", \"https://cdn.pydata.org/bokeh/release/bokeh-tables-0.12.16.min.js\", \"https://cdn.pydata.org/bokeh/release/bokeh-gl-0.12.16.min.js\"];\n",
       "\n",
       "  var inline_js = [\n",
       "    function(Bokeh) {\n",
       "      Bokeh.set_log_level(\"info\");\n",
       "    },\n",
       "    \n",
       "    function(Bokeh) {\n",
       "      \n",
       "    },\n",
       "    function(Bokeh) {\n",
       "      console.log(\"Bokeh: injecting CSS: https://cdn.pydata.org/bokeh/release/bokeh-0.12.16.min.css\");\n",
       "      Bokeh.embed.inject_css(\"https://cdn.pydata.org/bokeh/release/bokeh-0.12.16.min.css\");\n",
       "      console.log(\"Bokeh: injecting CSS: https://cdn.pydata.org/bokeh/release/bokeh-widgets-0.12.16.min.css\");\n",
       "      Bokeh.embed.inject_css(\"https://cdn.pydata.org/bokeh/release/bokeh-widgets-0.12.16.min.css\");\n",
       "      console.log(\"Bokeh: injecting CSS: https://cdn.pydata.org/bokeh/release/bokeh-tables-0.12.16.min.css\");\n",
       "      Bokeh.embed.inject_css(\"https://cdn.pydata.org/bokeh/release/bokeh-tables-0.12.16.min.css\");\n",
       "    }\n",
       "  ];\n",
       "\n",
       "  function run_inline_js() {\n",
       "    \n",
       "    if ((root.Bokeh !== undefined) || (force === true)) {\n",
       "      for (var i = 0; i < inline_js.length; i++) {\n",
       "        inline_js[i].call(root, root.Bokeh);\n",
       "      }if (force === true) {\n",
       "        display_loaded();\n",
       "      }} else if (Date.now() < root._bokeh_timeout) {\n",
       "      setTimeout(run_inline_js, 100);\n",
       "    } else if (!root._bokeh_failed_load) {\n",
       "      console.log(\"Bokeh: BokehJS failed to load within specified timeout.\");\n",
       "      root._bokeh_failed_load = true;\n",
       "    } else if (force !== true) {\n",
       "      var cell = $(document.getElementById(\"6a457fc2-ee64-4e7b-bc0d-aa3a2dc15beb\")).parents('.cell').data().cell;\n",
       "      cell.output_area.append_execute_result(NB_LOAD_WARNING)\n",
       "    }\n",
       "\n",
       "  }\n",
       "\n",
       "  if (root._bokeh_is_loading === 0) {\n",
       "    console.log(\"Bokeh: BokehJS loaded, going straight to plotting\");\n",
       "    run_inline_js();\n",
       "  } else {\n",
       "    load_libs(js_urls, function() {\n",
       "      console.log(\"Bokeh: BokehJS plotting callback run at\", now());\n",
       "      run_inline_js();\n",
       "    });\n",
       "  }\n",
       "}(window));"
      ],
      "application/vnd.bokehjs_load.v0+json": "\n(function(root) {\n  function now() {\n    return new Date();\n  }\n\n  var force = true;\n\n  if (typeof (root._bokeh_onload_callbacks) === \"undefined\" || force === true) {\n    root._bokeh_onload_callbacks = [];\n    root._bokeh_is_loading = undefined;\n  }\n\n  \n\n  \n  if (typeof (root._bokeh_timeout) === \"undefined\" || force === true) {\n    root._bokeh_timeout = Date.now() + 5000;\n    root._bokeh_failed_load = false;\n  }\n\n  var NB_LOAD_WARNING = {'data': {'text/html':\n     \"<div style='background-color: #fdd'>\\n\"+\n     \"<p>\\n\"+\n     \"BokehJS does not appear to have successfully loaded. If loading BokehJS from CDN, this \\n\"+\n     \"may be due to a slow or bad network connection. Possible fixes:\\n\"+\n     \"</p>\\n\"+\n     \"<ul>\\n\"+\n     \"<li>re-rerun `output_notebook()` to attempt to load from CDN again, or</li>\\n\"+\n     \"<li>use INLINE resources instead, as so:</li>\\n\"+\n     \"</ul>\\n\"+\n     \"<code>\\n\"+\n     \"from bokeh.resources import INLINE\\n\"+\n     \"output_notebook(resources=INLINE)\\n\"+\n     \"</code>\\n\"+\n     \"</div>\"}};\n\n  function display_loaded() {\n    var el = document.getElementById(\"6a457fc2-ee64-4e7b-bc0d-aa3a2dc15beb\");\n    if (el != null) {\n      el.textContent = \"BokehJS is loading...\";\n    }\n    if (root.Bokeh !== undefined) {\n      if (el != null) {\n        el.textContent = \"BokehJS \" + root.Bokeh.version + \" successfully loaded.\";\n      }\n    } else if (Date.now() < root._bokeh_timeout) {\n      setTimeout(display_loaded, 100)\n    }\n  }\n\n\n  function run_callbacks() {\n    try {\n      root._bokeh_onload_callbacks.forEach(function(callback) { callback() });\n    }\n    finally {\n      delete root._bokeh_onload_callbacks\n    }\n    console.info(\"Bokeh: all callbacks have finished\");\n  }\n\n  function load_libs(js_urls, callback) {\n    root._bokeh_onload_callbacks.push(callback);\n    if (root._bokeh_is_loading > 0) {\n      console.log(\"Bokeh: BokehJS is being loaded, scheduling callback at\", now());\n      return null;\n    }\n    if (js_urls == null || js_urls.length === 0) {\n      run_callbacks();\n      return null;\n    }\n    console.log(\"Bokeh: BokehJS not loaded, scheduling load and callback at\", now());\n    root._bokeh_is_loading = js_urls.length;\n    for (var i = 0; i < js_urls.length; i++) {\n      var url = js_urls[i];\n      var s = document.createElement('script');\n      s.src = url;\n      s.async = false;\n      s.onreadystatechange = s.onload = function() {\n        root._bokeh_is_loading--;\n        if (root._bokeh_is_loading === 0) {\n          console.log(\"Bokeh: all BokehJS libraries loaded\");\n          run_callbacks()\n        }\n      };\n      s.onerror = function() {\n        console.warn(\"failed to load library \" + url);\n      };\n      console.log(\"Bokeh: injecting script tag for BokehJS library: \", url);\n      document.getElementsByTagName(\"head\")[0].appendChild(s);\n    }\n  };var element = document.getElementById(\"6a457fc2-ee64-4e7b-bc0d-aa3a2dc15beb\");\n  if (element == null) {\n    console.log(\"Bokeh: ERROR: autoload.js configured with elementid '6a457fc2-ee64-4e7b-bc0d-aa3a2dc15beb' but no matching script tag was found. \")\n    return false;\n  }\n\n  var js_urls = [\"https://cdn.pydata.org/bokeh/release/bokeh-0.12.16.min.js\", \"https://cdn.pydata.org/bokeh/release/bokeh-widgets-0.12.16.min.js\", \"https://cdn.pydata.org/bokeh/release/bokeh-tables-0.12.16.min.js\", \"https://cdn.pydata.org/bokeh/release/bokeh-gl-0.12.16.min.js\"];\n\n  var inline_js = [\n    function(Bokeh) {\n      Bokeh.set_log_level(\"info\");\n    },\n    \n    function(Bokeh) {\n      \n    },\n    function(Bokeh) {\n      console.log(\"Bokeh: injecting CSS: https://cdn.pydata.org/bokeh/release/bokeh-0.12.16.min.css\");\n      Bokeh.embed.inject_css(\"https://cdn.pydata.org/bokeh/release/bokeh-0.12.16.min.css\");\n      console.log(\"Bokeh: injecting CSS: https://cdn.pydata.org/bokeh/release/bokeh-widgets-0.12.16.min.css\");\n      Bokeh.embed.inject_css(\"https://cdn.pydata.org/bokeh/release/bokeh-widgets-0.12.16.min.css\");\n      console.log(\"Bokeh: injecting CSS: https://cdn.pydata.org/bokeh/release/bokeh-tables-0.12.16.min.css\");\n      Bokeh.embed.inject_css(\"https://cdn.pydata.org/bokeh/release/bokeh-tables-0.12.16.min.css\");\n    }\n  ];\n\n  function run_inline_js() {\n    \n    if ((root.Bokeh !== undefined) || (force === true)) {\n      for (var i = 0; i < inline_js.length; i++) {\n        inline_js[i].call(root, root.Bokeh);\n      }if (force === true) {\n        display_loaded();\n      }} else if (Date.now() < root._bokeh_timeout) {\n      setTimeout(run_inline_js, 100);\n    } else if (!root._bokeh_failed_load) {\n      console.log(\"Bokeh: BokehJS failed to load within specified timeout.\");\n      root._bokeh_failed_load = true;\n    } else if (force !== true) {\n      var cell = $(document.getElementById(\"6a457fc2-ee64-4e7b-bc0d-aa3a2dc15beb\")).parents('.cell').data().cell;\n      cell.output_area.append_execute_result(NB_LOAD_WARNING)\n    }\n\n  }\n\n  if (root._bokeh_is_loading === 0) {\n    console.log(\"Bokeh: BokehJS loaded, going straight to plotting\");\n    run_inline_js();\n  } else {\n    load_libs(js_urls, function() {\n      console.log(\"Bokeh: BokehJS plotting callback run at\", now());\n      run_inline_js();\n    });\n  }\n}(window));"
     },
     "metadata": {},
     "output_type": "display_data"
    }
   ],
   "source": [
    "import numpy as np\n",
    "import pandas as pd\n",
    "from bokeh.plotting import figure \n",
    "from bokeh.io import output_notebook, show\n",
    "from bokeh.transform import factor_cmap\n",
    "from bokeh.palettes import Category20\n",
    "from bokeh.models import HoverTool, ColumnDataSource\n",
    "output_notebook()"
   ]
  },
  {
   "cell_type": "markdown",
   "metadata": {},
   "source": [
    "## Loading Data"
   ]
  },
  {
   "cell_type": "code",
   "execution_count": 2,
   "metadata": {
    "ExecuteTime": {
     "end_time": "2018-10-11T08:25:51.018106Z",
     "start_time": "2018-10-11T08:25:51.003466Z"
    },
    "scrolled": false
   },
   "outputs": [],
   "source": [
    "df = pd.read_csv(\"AllBirdsv4.csv\")\n",
    "df_test = pd.read_csv(\"Test Birds Location.csv\")"
   ]
  },
  {
   "cell_type": "markdown",
   "metadata": {},
   "source": [
    "### Pre-processing"
   ]
  },
  {
   "cell_type": "markdown",
   "metadata": {},
   "source": [
    "#### All Birds file"
   ]
  },
  {
   "cell_type": "code",
   "execution_count": 3,
   "metadata": {
    "ExecuteTime": {
     "end_time": "2018-10-11T08:25:51.080127Z",
     "start_time": "2018-10-11T08:25:51.019709Z"
    }
   },
   "outputs": [],
   "source": [
    "# replace \"?\" characters\n",
    "df = df.replace('?', None)\n",
    "df[\"Y\"] = df[\"Y\"].map(lambda y: y.replace(\"?\",\"\"))\n",
    "df[\"Y\"] = df[\"Y\"].astype('int64')\n",
    "\n",
    "species_list = df[\"English_name\"].unique()\n",
    "species_index = []\n",
    "for element in df[\"English_name\"]:\n",
    "    species_index.append(species_list.tolist().index(element))\n",
    "df[\"Birds index\"] = species_index\n",
    "\n",
    "# get years from date column\n",
    "df[\"Year\"] = df[\"Date\"]\n",
    "for i in range(df.shape[0]):\n",
    "    date = df[\"Year\"][i]\n",
    "    if len(date.split(\"/\")) == 3:\n",
    "        date = date.split(\"/\")[2]\n",
    "        df.at[i, \"Year\"] = date\n",
    "    elif len(date.split(\"-\")) == 3 and date.split(\"-\")[0] != '0000':\n",
    "        date = date.split(\"-\")[0]\n",
    "        df.at[i, \"Year\"] = date\n",
    "    else:\n",
    "        df.at[i, \"Year\"] = None"
   ]
  },
  {
   "cell_type": "code",
   "execution_count": 4,
   "metadata": {
    "ExecuteTime": {
     "end_time": "2018-10-11T08:25:51.085384Z",
     "start_time": "2018-10-11T08:25:51.081970Z"
    }
   },
   "outputs": [
    {
     "name": "stdout",
     "output_type": "stream",
     "text": [
      "['2018' '2017' '2008' '2016' '2000' '2015' '2014' '2013' '1993' '2012'\n",
      " '2009' '2004' '2005' '1996' '2010' '2007' '2011' '1991' '2003' '1998'\n",
      " '1990' '1992' '1997' '2006' '2002' None '1999' '1988' '1986' '1994'\n",
      " '1989' '1983' '1995' '2001']\n"
     ]
    }
   ],
   "source": [
    "print(df[\"Year\"].unique())"
   ]
  },
  {
   "cell_type": "markdown",
   "metadata": {},
   "source": [
    "#### Test Birds file"
   ]
  },
  {
   "cell_type": "code",
   "execution_count": 5,
   "metadata": {
    "ExecuteTime": {
     "end_time": "2018-10-11T08:25:51.089521Z",
     "start_time": "2018-10-11T08:25:51.086855Z"
    }
   },
   "outputs": [],
   "source": [
    "# rename columns of X and Y\n",
    "df_test.columns = [\"ID\", \"X\", \"Y\"]"
   ]
  },
  {
   "cell_type": "markdown",
   "metadata": {},
   "source": [
    "## Map visualization with Bokeh"
   ]
  },
  {
   "cell_type": "code",
   "execution_count": 6,
   "metadata": {
    "ExecuteTime": {
     "end_time": "2018-10-11T08:25:51.165019Z",
     "start_time": "2018-10-11T08:25:51.090978Z"
    }
   },
   "outputs": [
    {
     "data": {
      "text/html": [
       "\n",
       "<div class=\"bk-root\">\n",
       "    <div class=\"bk-plotdiv\" id=\"1b580a3b-1638-4847-a365-de91ac33283c\"></div>\n",
       "</div>"
      ]
     },
     "metadata": {},
     "output_type": "display_data"
    },
    {
     "data": {
      "application/javascript": [
       "(function(root) {\n",
       "  function embed_document(root) {\n",
       "    \n",
       "  var docs_json = {\"5d358642-ac0f-4fee-8cec-67ebc8591bbb\":{\"roots\":{\"references\":[{\"attributes\":{},\"id\":\"6fa95780-ec86-4752-82f1-2b1b8b6d6190\",\"type\":\"UnionRenderers\"},{\"attributes\":{\"fill_alpha\":{\"value\":0.5},\"fill_color\":{\"value\":\"lightgrey\"},\"level\":\"overlay\",\"line_alpha\":{\"value\":1.0},\"line_color\":{\"value\":\"black\"},\"line_dash\":[4,4],\"line_width\":{\"value\":2},\"plot\":null,\"xs_units\":\"screen\",\"ys_units\":\"screen\"},\"id\":\"5e75f700-e5df-404d-b6a7-3451f3c706c6\",\"type\":\"PolyAnnotation\"},{\"attributes\":{\"fill_alpha\":{\"value\":0.5},\"fill_color\":{\"value\":\"lightgrey\"},\"level\":\"overlay\",\"line_alpha\":{\"value\":1.0},\"line_color\":{\"value\":\"black\"},\"line_dash\":[4,4],\"line_width\":{\"value\":2},\"plot\":null,\"xs_units\":\"screen\",\"ys_units\":\"screen\"},\"id\":\"ba853cb5-5dcd-4027-b006-9a42078b2750\",\"type\":\"PolyAnnotation\"},{\"attributes\":{\"data_source\":{\"id\":\"99795281-4151-4dcb-bf97-1d31b3959c6f\",\"type\":\"ColumnDataSource\"},\"glyph\":{\"id\":\"5cd00dda-d9be-4bce-aba6-6c5ded0fcd6b\",\"type\":\"ImageURL\"},\"hover_glyph\":null,\"muted_glyph\":null,\"nonselection_glyph\":{\"id\":\"be0a93c1-30b3-4dfd-9675-a1fa098989c2\",\"type\":\"ImageURL\"},\"selection_glyph\":null,\"view\":{\"id\":\"7f7e8af8-a31d-4328-a661-b0e0288624a3\",\"type\":\"CDSView\"}},\"id\":\"eb4d4e2b-eabf-44bd-aae4-8f6a145e26ed\",\"type\":\"GlyphRenderer\"},{\"attributes\":{},\"id\":\"ddafebc3-fefe-4324-8cfa-f8e2039ce989\",\"type\":\"UnionRenderers\"},{\"attributes\":{\"active_drag\":\"auto\",\"active_inspect\":\"auto\",\"active_scroll\":\"auto\",\"active_tap\":\"auto\",\"tools\":[{\"id\":\"9f52a20c-296b-4d2c-b417-d4298d33b45c\",\"type\":\"CrosshairTool\"},{\"id\":\"388bbe55-75c0-4b00-8666-f5427a419fbe\",\"type\":\"PanTool\"},{\"id\":\"eaba955c-3a7a-44b5-ad6f-f4e68edf6eb3\",\"type\":\"WheelZoomTool\"},{\"id\":\"9f2f4a5b-f9af-4540-9ae1-b50bcc6d68e5\",\"type\":\"ZoomInTool\"},{\"id\":\"871dbc8d-e980-4c88-b7c6-8d1c439f7291\",\"type\":\"ZoomOutTool\"},{\"id\":\"c7f21117-815d-489e-9e86-277c878b2446\",\"type\":\"BoxZoomTool\"},{\"id\":\"a6724b58-5b97-4b0a-9c13-0e5a22949d63\",\"type\":\"UndoTool\"},{\"id\":\"65cf9713-47d4-4103-a4ee-30e54c1af498\",\"type\":\"RedoTool\"},{\"id\":\"328a90f5-5af7-4a93-b2ca-c731266094a7\",\"type\":\"ResetTool\"},{\"id\":\"b296ae86-cee2-4089-9609-be271139a129\",\"type\":\"TapTool\"},{\"id\":\"f4249fea-d74f-462e-b09a-fcd5c4d3cf8c\",\"type\":\"SaveTool\"},{\"id\":\"dbeb790b-769b-4db3-a545-97575641933f\",\"type\":\"BoxSelectTool\"},{\"id\":\"d7647070-ce0b-491b-ba20-f139c55a6668\",\"type\":\"PolySelectTool\"},{\"id\":\"265b2c50-623e-4cda-b273-29a23f9a6d18\",\"type\":\"LassoSelectTool\"},{\"id\":\"20128850-2e99-41a3-b3f7-ab99addb49b7\",\"type\":\"HoverTool\"}]},\"id\":\"ececc72f-b2d3-4eb0-a112-efc05e9dcedc\",\"type\":\"Toolbar\"},{\"attributes\":{},\"id\":\"3321f808-665d-400f-a1ee-9d30f565c135\",\"type\":\"Selection\"},{\"attributes\":{\"callback\":null,\"end\":200},\"id\":\"d27ab965-8c72-48f6-ae35-1c1b6d58c9fc\",\"type\":\"Range1d\"},{\"attributes\":{\"data_source\":{\"id\":\"09540cfb-8512-4538-aef0-b802b239fccd\",\"type\":\"ColumnDataSource\"},\"glyph\":{\"id\":\"41e16eaa-7400-43d3-b5c5-ba6da380c8a2\",\"type\":\"Circle\"},\"hover_glyph\":null,\"muted_glyph\":null,\"nonselection_glyph\":{\"id\":\"3f6ccfde-7520-48e6-9ca0-a7cbf6782d3d\",\"type\":\"Circle\"},\"selection_glyph\":null,\"view\":{\"id\":\"2f0d783f-29cf-4527-9c37-2978ccdcc898\",\"type\":\"CDSView\"}},\"id\":\"92ba3cec-b0ef-4da7-9c76-80b64e9f4818\",\"type\":\"GlyphRenderer\"},{\"attributes\":{},\"id\":\"2972956f-052a-49b4-b7c1-2704ff19e1ac\",\"type\":\"UnionRenderers\"},{\"attributes\":{\"callback\":null,\"end\":200},\"id\":\"96d6bbf8-c6d7-40fe-b784-332ede70d220\",\"type\":\"Range1d\"},{\"attributes\":{\"callback\":null,\"data\":{\"fill_color\":[\"#1f77b4\",\"#1f77b4\",\"#1f77b4\",\"#1f77b4\",\"#1f77b4\",\"#1f77b4\",\"#1f77b4\",\"#1f77b4\",\"#1f77b4\",\"#1f77b4\",\"#1f77b4\",\"#1f77b4\",\"#1f77b4\",\"#1f77b4\",\"#1f77b4\",\"#1f77b4\",\"#1f77b4\",\"#1f77b4\",\"#1f77b4\",\"#1f77b4\",\"#1f77b4\",\"#1f77b4\",\"#1f77b4\",\"#1f77b4\",\"#1f77b4\",\"#1f77b4\",\"#1f77b4\",\"#1f77b4\",\"#1f77b4\",\"#1f77b4\",\"#1f77b4\",\"#1f77b4\",\"#1f77b4\",\"#1f77b4\",\"#1f77b4\",\"#1f77b4\",\"#1f77b4\",\"#1f77b4\",\"#1f77b4\",\"#1f77b4\",\"#1f77b4\",\"#1f77b4\",\"#1f77b4\",\"#1f77b4\",\"#1f77b4\",\"#1f77b4\",\"#1f77b4\",\"#1f77b4\",\"#1f77b4\",\"#1f77b4\",\"#1f77b4\",\"#1f77b4\",\"#1f77b4\",\"#1f77b4\",\"#1f77b4\",\"#1f77b4\",\"#1f77b4\",\"#1f77b4\",\"#1f77b4\",\"#1f77b4\",\"#1f77b4\",\"#1f77b4\",\"#1f77b4\",\"#1f77b4\",\"#1f77b4\",\"#1f77b4\",\"#1f77b4\",\"#1f77b4\",\"#1f77b4\",\"#1f77b4\",\"#1f77b4\",\"#1f77b4\",\"#1f77b4\",\"#1f77b4\",\"#1f77b4\",\"#1f77b4\",\"#1f77b4\",\"#1f77b4\",\"#1f77b4\",\"#1f77b4\",\"#1f77b4\",\"#1f77b4\",\"#1f77b4\",\"#1f77b4\",\"#1f77b4\",\"#1f77b4\",\"#1f77b4\",\"#1f77b4\",\"#1f77b4\",\"#1f77b4\",\"#1f77b4\",\"#1f77b4\",\"#1f77b4\",\"#1f77b4\",\"#1f77b4\",\"#1f77b4\",\"#1f77b4\",\"#1f77b4\",\"#1f77b4\",\"#1f77b4\",\"#1f77b4\",\"#1f77b4\",\"#1f77b4\",\"#1f77b4\",\"#1f77b4\",\"#1f77b4\",\"#1f77b4\",\"#1f77b4\",\"#1f77b4\",\"#1f77b4\",\"#1f77b4\",\"#1f77b4\",\"#1f77b4\",\"#1f77b4\",\"#1f77b4\",\"#1f77b4\",\"#1f77b4\",\"#1f77b4\",\"#1f77b4\",\"#1f77b4\",\"#1f77b4\",\"#1f77b4\",\"#1f77b4\",\"#1f77b4\",\"#1f77b4\",\"#1f77b4\",\"#1f77b4\",\"#1f77b4\",\"#1f77b4\",\"#1f77b4\",\"#1f77b4\",\"#1f77b4\",\"#1f77b4\",\"#1f77b4\",\"#1f77b4\",\"#1f77b4\",\"#1f77b4\",\"#1f77b4\",\"#1f77b4\",\"#1f77b4\",\"#1f77b4\",\"#1f77b4\",\"#1f77b4\",\"#1f77b4\",\"#1f77b4\",\"#1f77b4\",\"#1f77b4\",\"#1f77b4\",\"#1f77b4\",\"#1f77b4\",\"#1f77b4\",\"#1f77b4\",\"#1f77b4\",\"#1f77b4\",\"#1f77b4\",\"#1f77b4\",\"#1f77b4\",\"#1f77b4\",\"#1f77b4\",\"#1f77b4\",\"#1f77b4\",\"#1f77b4\",\"#1f77b4\",\"#1f77b4\",\"#1f77b4\",\"#1f77b4\",\"#1f77b4\",\"#1f77b4\",\"#1f77b4\",\"#1f77b4\",\"#1f77b4\",\"#1f77b4\",\"#1f77b4\",\"#1f77b4\",\"#1f77b4\",\"#1f77b4\",\"#1f77b4\",\"#1f77b4\",\"#1f77b4\",\"#1f77b4\",\"#1f77b4\",\"#1f77b4\",\"#1f77b4\",\"#1f77b4\",\"#1f77b4\",\"#1f77b4\",\"#aec7e8\",\"#aec7e8\",\"#aec7e8\",\"#aec7e8\",\"#aec7e8\",\"#aec7e8\",\"#aec7e8\",\"#aec7e8\",\"#aec7e8\",\"#aec7e8\",\"#aec7e8\",\"#aec7e8\",\"#aec7e8\",\"#aec7e8\",\"#aec7e8\",\"#aec7e8\",\"#aec7e8\",\"#aec7e8\",\"#aec7e8\",\"#aec7e8\",\"#aec7e8\",\"#aec7e8\",\"#aec7e8\",\"#aec7e8\",\"#aec7e8\",\"#aec7e8\",\"#aec7e8\",\"#aec7e8\",\"#aec7e8\",\"#aec7e8\",\"#aec7e8\",\"#aec7e8\",\"#aec7e8\",\"#aec7e8\",\"#aec7e8\",\"#aec7e8\",\"#aec7e8\",\"#aec7e8\",\"#aec7e8\",\"#aec7e8\",\"#aec7e8\",\"#aec7e8\",\"#aec7e8\",\"#aec7e8\",\"#aec7e8\",\"#aec7e8\",\"#aec7e8\",\"#aec7e8\",\"#aec7e8\",\"#aec7e8\",\"#aec7e8\",\"#aec7e8\",\"#aec7e8\",\"#aec7e8\",\"#aec7e8\",\"#aec7e8\",\"#aec7e8\",\"#aec7e8\",\"#aec7e8\",\"#aec7e8\",\"#aec7e8\",\"#aec7e8\",\"#aec7e8\",\"#aec7e8\",\"#aec7e8\",\"#aec7e8\",\"#aec7e8\",\"#ff7f0e\",\"#ff7f0e\",\"#ff7f0e\",\"#ff7f0e\",\"#ff7f0e\",\"#ff7f0e\",\"#ff7f0e\",\"#ff7f0e\",\"#ff7f0e\",\"#ff7f0e\",\"#ff7f0e\",\"#ff7f0e\",\"#ff7f0e\",\"#ff7f0e\",\"#ff7f0e\",\"#ff7f0e\",\"#ff7f0e\",\"#ff7f0e\",\"#ff7f0e\",\"#ff7f0e\",\"#ff7f0e\",\"#ff7f0e\",\"#ff7f0e\",\"#ff7f0e\",\"#ff7f0e\",\"#ff7f0e\",\"#ff7f0e\",\"#ff7f0e\",\"#ff7f0e\",\"#ff7f0e\",\"#ff7f0e\",\"#ff7f0e\",\"#ff7f0e\",\"#ff7f0e\",\"#ff7f0e\",\"#ff7f0e\",\"#ff7f0e\",\"#ff7f0e\",\"#ff7f0e\",\"#ff7f0e\",\"#ff7f0e\",\"#ff7f0e\",\"#ff7f0e\",\"#ff7f0e\",\"#ff7f0e\",\"#ff7f0e\",\"#ff7f0e\",\"#ff7f0e\",\"#ff7f0e\",\"#ff7f0e\",\"#ff7f0e\",\"#ff7f0e\",\"#ff7f0e\",\"#ff7f0e\",\"#ff7f0e\",\"#ff7f0e\",\"#ff7f0e\",\"#ff7f0e\",\"#ff7f0e\",\"#ff7f0e\",\"#ff7f0e\",\"#ff7f0e\",\"#ff7f0e\",\"#ff7f0e\",\"#ff7f0e\",\"#ff7f0e\",\"#ff7f0e\",\"#ff7f0e\",\"#ff7f0e\",\"#ff7f0e\",\"#ff7f0e\",\"#ff7f0e\",\"#ff7f0e\",\"#ff7f0e\",\"#ff7f0e\",\"#ff7f0e\",\"#ff7f0e\",\"#ff7f0e\",\"#ff7f0e\",\"#ff7f0e\",\"#ff7f0e\",\"#ff7f0e\",\"#ff7f0e\",\"#ff7f0e\",\"#ff7f0e\",\"#ff7f0e\",\"#ff7f0e\",\"#ff7f0e\",\"#ff7f0e\",\"#ff7f0e\",\"#ff7f0e\",\"#ff7f0e\",\"#ff7f0e\",\"#ff7f0e\",\"#ff7f0e\",\"#ff7f0e\",\"#ff7f0e\",\"#ff7f0e\",\"#ff7f0e\",\"#ff7f0e\",\"#ff7f0e\",\"#ff7f0e\",\"#ff7f0e\",\"#ff7f0e\",\"#ff7f0e\",\"#ff7f0e\",\"#ff7f0e\",\"#ff7f0e\",\"#ff7f0e\",\"#ff7f0e\",\"#ff7f0e\",\"#ff7f0e\",\"#ff7f0e\",\"#ff7f0e\",\"#ff7f0e\",\"#ff7f0e\",\"#ff7f0e\",\"#ff7f0e\",\"#ff7f0e\",\"#ff7f0e\",\"#ff7f0e\",\"#ff7f0e\",\"#ff7f0e\",\"#ff7f0e\",\"#ff7f0e\",\"#ff7f0e\",\"#ff7f0e\",\"#ff7f0e\",\"#ff7f0e\",\"#ff7f0e\",\"#ff7f0e\",\"#ff7f0e\",\"#ff7f0e\",\"#ff7f0e\",\"#ff7f0e\",\"#ff7f0e\",\"#ff7f0e\",\"#ff7f0e\",\"#ff7f0e\",\"#ff7f0e\",\"#ffbb78\",\"#ffbb78\",\"#ffbb78\",\"#ffbb78\",\"#ffbb78\",\"#ffbb78\",\"#ffbb78\",\"#ffbb78\",\"#ffbb78\",\"#ffbb78\",\"#ffbb78\",\"#ffbb78\",\"#ffbb78\",\"#ffbb78\",\"#ffbb78\",\"#ffbb78\",\"#ffbb78\",\"#ffbb78\",\"#ffbb78\",\"#ffbb78\",\"#ffbb78\",\"#ffbb78\",\"#ffbb78\",\"#ffbb78\",\"#ffbb78\",\"#ffbb78\",\"#ffbb78\",\"#ffbb78\",\"#ffbb78\",\"#ffbb78\",\"#ffbb78\",\"#ffbb78\",\"#ffbb78\",\"#ffbb78\",\"#ffbb78\",\"#ffbb78\",\"#ffbb78\",\"#ffbb78\",\"#ffbb78\",\"#ffbb78\",\"#ffbb78\",\"#ffbb78\",\"#ffbb78\",\"#ffbb78\",\"#ffbb78\",\"#ffbb78\",\"#ffbb78\",\"#ffbb78\",\"#ffbb78\",\"#ffbb78\",\"#ffbb78\",\"#ffbb78\",\"#ffbb78\",\"#ffbb78\",\"#ffbb78\",\"#ffbb78\",\"#ffbb78\",\"#ffbb78\",\"#ffbb78\",\"#ffbb78\",\"#ffbb78\",\"#ffbb78\",\"#ffbb78\",\"#ffbb78\",\"#ffbb78\",\"#ffbb78\",\"#ffbb78\",\"#ffbb78\",\"#ffbb78\",\"#ffbb78\",\"#ffbb78\",\"#ffbb78\",\"#ffbb78\",\"#ffbb78\",\"#ffbb78\",\"#ffbb78\",\"#ffbb78\",\"#ffbb78\",\"#ffbb78\",\"#ffbb78\",\"#ffbb78\",\"#ffbb78\",\"#ffbb78\",\"#ffbb78\",\"#ffbb78\",\"#ffbb78\",\"#ffbb78\",\"#ffbb78\",\"#ffbb78\",\"#ffbb78\",\"#ffbb78\",\"#ffbb78\",\"#ffbb78\",\"#ffbb78\",\"#2ca02c\",\"#2ca02c\",\"#2ca02c\",\"#2ca02c\",\"#2ca02c\",\"#2ca02c\",\"#2ca02c\",\"#2ca02c\",\"#2ca02c\",\"#2ca02c\",\"#2ca02c\",\"#2ca02c\",\"#2ca02c\",\"#2ca02c\",\"#2ca02c\",\"#2ca02c\",\"#2ca02c\",\"#2ca02c\",\"#2ca02c\",\"#2ca02c\",\"#2ca02c\",\"#2ca02c\",\"#2ca02c\",\"#2ca02c\",\"#2ca02c\",\"#2ca02c\",\"#2ca02c\",\"#2ca02c\",\"#2ca02c\",\"#2ca02c\",\"#2ca02c\",\"#2ca02c\",\"#2ca02c\",\"#2ca02c\",\"#2ca02c\",\"#2ca02c\",\"#2ca02c\",\"#2ca02c\",\"#2ca02c\",\"#2ca02c\",\"#2ca02c\",\"#2ca02c\",\"#2ca02c\",\"#2ca02c\",\"#2ca02c\",\"#2ca02c\",\"#2ca02c\",\"#2ca02c\",\"#2ca02c\",\"#2ca02c\",\"#2ca02c\",\"#2ca02c\",\"#2ca02c\",\"#2ca02c\",\"#2ca02c\",\"#2ca02c\",\"#2ca02c\",\"#2ca02c\",\"#2ca02c\",\"#2ca02c\",\"#2ca02c\",\"#2ca02c\",\"#2ca02c\",\"#2ca02c\",\"#2ca02c\",\"#2ca02c\",\"#2ca02c\",\"#2ca02c\",\"#2ca02c\",\"#2ca02c\",\"#2ca02c\",\"#2ca02c\",\"#2ca02c\",\"#2ca02c\",\"#2ca02c\",\"#2ca02c\",\"#2ca02c\",\"#2ca02c\",\"#2ca02c\",\"#2ca02c\",\"#2ca02c\",\"#2ca02c\",\"#98df8a\",\"#98df8a\",\"#98df8a\",\"#98df8a\",\"#98df8a\",\"#98df8a\",\"#98df8a\",\"#98df8a\",\"#98df8a\",\"#98df8a\",\"#98df8a\",\"#98df8a\",\"#98df8a\",\"#98df8a\",\"#98df8a\",\"#98df8a\",\"#98df8a\",\"#98df8a\",\"#98df8a\",\"#98df8a\",\"#98df8a\",\"#98df8a\",\"#98df8a\",\"#98df8a\",\"#98df8a\",\"#98df8a\",\"#98df8a\",\"#98df8a\",\"#98df8a\",\"#98df8a\",\"#98df8a\",\"#98df8a\",\"#98df8a\",\"#98df8a\",\"#98df8a\",\"#98df8a\",\"#98df8a\",\"#98df8a\",\"#98df8a\",\"#98df8a\",\"#98df8a\",\"#98df8a\",\"#98df8a\",\"#98df8a\",\"#98df8a\",\"#98df8a\",\"#98df8a\",\"#98df8a\",\"#98df8a\",\"#98df8a\",\"#98df8a\",\"#98df8a\",\"#98df8a\",\"#98df8a\",\"#98df8a\",\"#98df8a\",\"#98df8a\",\"#98df8a\",\"#98df8a\",\"#98df8a\",\"#98df8a\",\"#98df8a\",\"#98df8a\",\"#98df8a\",\"#98df8a\",\"#98df8a\",\"#98df8a\",\"#98df8a\",\"#98df8a\",\"#98df8a\",\"#98df8a\",\"#98df8a\",\"#98df8a\",\"#98df8a\",\"#98df8a\",\"#98df8a\",\"#98df8a\",\"#98df8a\",\"#98df8a\",\"#98df8a\",\"#98df8a\",\"#98df8a\",\"#98df8a\",\"#98df8a\",\"#98df8a\",\"#98df8a\",\"#98df8a\",\"#98df8a\",\"#98df8a\",\"#98df8a\",\"#98df8a\",\"#98df8a\",\"#98df8a\",\"#98df8a\",\"#98df8a\",\"#98df8a\",\"#98df8a\",\"#98df8a\",\"#98df8a\",\"#98df8a\",\"#98df8a\",\"#98df8a\",\"#98df8a\",\"#98df8a\",\"#d62728\",\"#d62728\",\"#d62728\",\"#d62728\",\"#d62728\",\"#d62728\",\"#d62728\",\"#d62728\",\"#d62728\",\"#d62728\",\"#d62728\",\"#d62728\",\"#d62728\",\"#d62728\",\"#d62728\",\"#d62728\",\"#d62728\",\"#d62728\",\"#d62728\",\"#d62728\",\"#d62728\",\"#d62728\",\"#d62728\",\"#d62728\",\"#d62728\",\"#d62728\",\"#d62728\",\"#d62728\",\"#d62728\",\"#d62728\",\"#d62728\",\"#d62728\",\"#d62728\",\"#d62728\",\"#d62728\",\"#d62728\",\"#d62728\",\"#d62728\",\"#d62728\",\"#d62728\",\"#d62728\",\"#d62728\",\"#d62728\",\"#d62728\",\"#d62728\",\"#d62728\",\"#d62728\",\"#d62728\",\"#d62728\",\"#d62728\",\"#d62728\",\"#d62728\",\"#d62728\",\"#d62728\",\"#d62728\",\"#d62728\",\"#d62728\",\"#d62728\",\"#d62728\",\"#d62728\",\"#d62728\",\"#d62728\",\"#d62728\",\"#d62728\",\"#d62728\",\"#d62728\",\"#d62728\",\"#d62728\",\"#d62728\",\"#d62728\",\"#d62728\",\"#d62728\",\"#d62728\",\"#d62728\",\"#d62728\",\"#d62728\",\"#d62728\",\"#d62728\",\"#d62728\",\"#d62728\",\"#d62728\",\"#d62728\",\"#d62728\",\"#d62728\",\"#d62728\",\"#d62728\",\"#ff9896\",\"#ff9896\",\"#ff9896\",\"#ff9896\",\"#ff9896\",\"#ff9896\",\"#ff9896\",\"#ff9896\",\"#ff9896\",\"#ff9896\",\"#ff9896\",\"#ff9896\",\"#ff9896\",\"#ff9896\",\"#ff9896\",\"#ff9896\",\"#ff9896\",\"#ff9896\",\"#ff9896\",\"#ff9896\",\"#ff9896\",\"#ff9896\",\"#ff9896\",\"#ff9896\",\"#ff9896\",\"#ff9896\",\"#ff9896\",\"#ff9896\",\"#ff9896\",\"#ff9896\",\"#ff9896\",\"#ff9896\",\"#ff9896\",\"#ff9896\",\"#ff9896\",\"#ff9896\",\"#ff9896\",\"#ff9896\",\"#ff9896\",\"#ff9896\",\"#ff9896\",\"#ff9896\",\"#ff9896\",\"#ff9896\",\"#ff9896\",\"#ff9896\",\"#ff9896\",\"#ff9896\",\"#ff9896\",\"#ff9896\",\"#ff9896\",\"#ff9896\",\"#ff9896\",\"#ff9896\",\"#ff9896\",\"#ff9896\",\"#ff9896\",\"#ff9896\",\"#ff9896\",\"#ff9896\",\"#ff9896\",\"#ff9896\",\"#ff9896\",\"#ff9896\",\"#ff9896\",\"#ff9896\",\"#ff9896\",\"#ff9896\",\"#ff9896\",\"#ff9896\",\"#ff9896\",\"#ff9896\",\"#ff9896\",\"#ff9896\",\"#ff9896\",\"#ff9896\",\"#ff9896\",\"#ff9896\",\"#ff9896\",\"#ff9896\",\"#ff9896\",\"#ff9896\",\"#ff9896\",\"#ff9896\",\"#ff9896\",\"#ff9896\",\"#ff9896\",\"#ff9896\",\"#9467bd\",\"#9467bd\",\"#9467bd\",\"#9467bd\",\"#9467bd\",\"#9467bd\",\"#9467bd\",\"#9467bd\",\"#9467bd\",\"#9467bd\",\"#9467bd\",\"#9467bd\",\"#9467bd\",\"#9467bd\",\"#9467bd\",\"#9467bd\",\"#9467bd\",\"#9467bd\",\"#9467bd\",\"#9467bd\",\"#9467bd\",\"#9467bd\",\"#9467bd\",\"#9467bd\",\"#9467bd\",\"#9467bd\",\"#9467bd\",\"#9467bd\",\"#9467bd\",\"#9467bd\",\"#9467bd\",\"#9467bd\",\"#9467bd\",\"#9467bd\",\"#9467bd\",\"#9467bd\",\"#9467bd\",\"#9467bd\",\"#9467bd\",\"#9467bd\",\"#9467bd\",\"#9467bd\",\"#9467bd\",\"#9467bd\",\"#9467bd\",\"#9467bd\",\"#9467bd\",\"#9467bd\",\"#9467bd\",\"#9467bd\",\"#9467bd\",\"#9467bd\",\"#9467bd\",\"#9467bd\",\"#9467bd\",\"#9467bd\",\"#9467bd\",\"#9467bd\",\"#9467bd\",\"#9467bd\",\"#9467bd\",\"#9467bd\",\"#9467bd\",\"#9467bd\",\"#9467bd\",\"#9467bd\",\"#9467bd\",\"#9467bd\",\"#9467bd\",\"#9467bd\",\"#9467bd\",\"#9467bd\",\"#9467bd\",\"#9467bd\",\"#9467bd\",\"#9467bd\",\"#9467bd\",\"#9467bd\",\"#9467bd\",\"#9467bd\",\"#9467bd\",\"#9467bd\",\"#9467bd\",\"#9467bd\",\"#9467bd\",\"#9467bd\",\"#9467bd\",\"#9467bd\",\"#c5b0d5\",\"#c5b0d5\",\"#c5b0d5\",\"#c5b0d5\",\"#c5b0d5\",\"#c5b0d5\",\"#c5b0d5\",\"#c5b0d5\",\"#c5b0d5\",\"#c5b0d5\",\"#c5b0d5\",\"#c5b0d5\",\"#c5b0d5\",\"#c5b0d5\",\"#c5b0d5\",\"#c5b0d5\",\"#c5b0d5\",\"#c5b0d5\",\"#c5b0d5\",\"#c5b0d5\",\"#c5b0d5\",\"#c5b0d5\",\"#c5b0d5\",\"#c5b0d5\",\"#c5b0d5\",\"#c5b0d5\",\"#c5b0d5\",\"#c5b0d5\",\"#c5b0d5\",\"#c5b0d5\",\"#c5b0d5\",\"#c5b0d5\",\"#c5b0d5\",\"#c5b0d5\",\"#c5b0d5\",\"#c5b0d5\",\"#c5b0d5\",\"#c5b0d5\",\"#c5b0d5\",\"#c5b0d5\",\"#c5b0d5\",\"#c5b0d5\",\"#c5b0d5\",\"#c5b0d5\",\"#c5b0d5\",\"#c5b0d5\",\"#c5b0d5\",\"#c5b0d5\",\"#c5b0d5\",\"#c5b0d5\",\"#c5b0d5\",\"#c5b0d5\",\"#c5b0d5\",\"#c5b0d5\",\"#c5b0d5\",\"#c5b0d5\",\"#c5b0d5\",\"#c5b0d5\",\"#c5b0d5\",\"#c5b0d5\",\"#c5b0d5\",\"#c5b0d5\",\"#c5b0d5\",\"#c5b0d5\",\"#c5b0d5\",\"#c5b0d5\",\"#c5b0d5\",\"#c5b0d5\",\"#c5b0d5\",\"#c5b0d5\",\"#c5b0d5\",\"#c5b0d5\",\"#c5b0d5\",\"#c5b0d5\",\"#c5b0d5\",\"#c5b0d5\",\"#c5b0d5\",\"#c5b0d5\",\"#c5b0d5\",\"#c5b0d5\",\"#c5b0d5\",\"#c5b0d5\",\"#c5b0d5\",\"#c5b0d5\",\"#c5b0d5\",\"#c5b0d5\",\"#c5b0d5\",\"#c5b0d5\",\"#c5b0d5\",\"#c5b0d5\",\"#c5b0d5\",\"#c5b0d5\",\"#c5b0d5\",\"#c5b0d5\",\"#c5b0d5\",\"#c5b0d5\",\"#c5b0d5\",\"#c5b0d5\",\"#c5b0d5\",\"#c5b0d5\",\"#c5b0d5\",\"#c5b0d5\",\"#c5b0d5\",\"#c5b0d5\",\"#c5b0d5\",\"#c5b0d5\",\"#c5b0d5\",\"#c5b0d5\",\"#c5b0d5\",\"#c5b0d5\",\"#c5b0d5\",\"#c5b0d5\",\"#c5b0d5\",\"#c5b0d5\",\"#c5b0d5\",\"#c5b0d5\",\"#c5b0d5\",\"#c5b0d5\",\"#c5b0d5\",\"#c5b0d5\",\"#c5b0d5\",\"#c5b0d5\",\"#c5b0d5\",\"#c5b0d5\",\"#c5b0d5\",\"#c5b0d5\",\"#c5b0d5\",\"#c5b0d5\",\"#c5b0d5\",\"#c5b0d5\",\"#c5b0d5\",\"#c5b0d5\",\"#c5b0d5\",\"#c5b0d5\",\"#c5b0d5\",\"#c5b0d5\",\"#c5b0d5\",\"#c5b0d5\",\"#c5b0d5\",\"#c5b0d5\",\"#c5b0d5\",\"#c5b0d5\",\"#c5b0d5\",\"#c5b0d5\",\"#c5b0d5\",\"#c5b0d5\",\"#c5b0d5\",\"#c5b0d5\",\"#c5b0d5\",\"#c5b0d5\",\"#8c564b\",\"#8c564b\",\"#8c564b\",\"#8c564b\",\"#8c564b\",\"#8c564b\",\"#8c564b\",\"#8c564b\",\"#8c564b\",\"#8c564b\",\"#8c564b\",\"#8c564b\",\"#8c564b\",\"#8c564b\",\"#8c564b\",\"#8c564b\",\"#8c564b\",\"#8c564b\",\"#8c564b\",\"#8c564b\",\"#8c564b\",\"#8c564b\",\"#8c564b\",\"#8c564b\",\"#8c564b\",\"#8c564b\",\"#8c564b\",\"#8c564b\",\"#8c564b\",\"#8c564b\",\"#8c564b\",\"#8c564b\",\"#8c564b\",\"#8c564b\",\"#8c564b\",\"#8c564b\",\"#8c564b\",\"#8c564b\",\"#8c564b\",\"#8c564b\",\"#8c564b\",\"#8c564b\",\"#8c564b\",\"#8c564b\",\"#8c564b\",\"#8c564b\",\"#8c564b\",\"#8c564b\",\"#8c564b\",\"#8c564b\",\"#8c564b\",\"#8c564b\",\"#8c564b\",\"#8c564b\",\"#8c564b\",\"#8c564b\",\"#8c564b\",\"#8c564b\",\"#8c564b\",\"#8c564b\",\"#8c564b\",\"#8c564b\",\"#8c564b\",\"#8c564b\",\"#8c564b\",\"#8c564b\",\"#8c564b\",\"#8c564b\",\"#8c564b\",\"#8c564b\",\"#8c564b\",\"#8c564b\",\"#8c564b\",\"#8c564b\",\"#8c564b\",\"#8c564b\",\"#8c564b\",\"#8c564b\",\"#8c564b\",\"#8c564b\",\"#8c564b\",\"#8c564b\",\"#8c564b\",\"#8c564b\",\"#8c564b\",\"#8c564b\",\"#8c564b\",\"#8c564b\",\"#8c564b\",\"#8c564b\",\"#8c564b\",\"#8c564b\",\"#8c564b\",\"#8c564b\",\"#8c564b\",\"#8c564b\",\"#8c564b\",\"#8c564b\",\"#8c564b\",\"#8c564b\",\"#8c564b\",\"#8c564b\",\"#8c564b\",\"#8c564b\",\"#8c564b\",\"#8c564b\",\"#8c564b\",\"#8c564b\",\"#8c564b\",\"#8c564b\",\"#8c564b\",\"#8c564b\",\"#8c564b\",\"#8c564b\",\"#8c564b\",\"#8c564b\",\"#8c564b\",\"#8c564b\",\"#8c564b\",\"#8c564b\",\"#8c564b\",\"#8c564b\",\"#8c564b\",\"#8c564b\",\"#8c564b\",\"#8c564b\",\"#8c564b\",\"#8c564b\",\"#8c564b\",\"#8c564b\",\"#8c564b\",\"#8c564b\",\"#8c564b\",\"#8c564b\",\"#8c564b\",\"#8c564b\",\"#8c564b\",\"#8c564b\",\"#8c564b\",\"#8c564b\",\"#8c564b\",\"#8c564b\",\"#8c564b\",\"#8c564b\",\"#8c564b\",\"#8c564b\",\"#8c564b\",\"#8c564b\",\"#8c564b\",\"#8c564b\",\"#8c564b\",\"#8c564b\",\"#8c564b\",\"#8c564b\",\"#8c564b\",\"#8c564b\",\"#8c564b\",\"#8c564b\",\"#8c564b\",\"#8c564b\",\"#8c564b\",\"#8c564b\",\"#8c564b\",\"#8c564b\",\"#8c564b\",\"#8c564b\",\"#8c564b\",\"#8c564b\",\"#8c564b\",\"#8c564b\",\"#8c564b\",\"#8c564b\",\"#8c564b\",\"#8c564b\",\"#8c564b\",\"#8c564b\",\"#8c564b\",\"#8c564b\",\"#8c564b\",\"#8c564b\",\"#8c564b\",\"#8c564b\",\"#8c564b\",\"#8c564b\",\"#8c564b\",\"#8c564b\",\"#8c564b\",\"#8c564b\",\"#8c564b\",\"#8c564b\",\"#8c564b\",\"#8c564b\",\"#8c564b\",\"#8c564b\",\"#8c564b\",\"#8c564b\",\"#8c564b\",\"#8c564b\",\"#8c564b\",\"#8c564b\",\"#8c564b\",\"#8c564b\",\"#8c564b\",\"#8c564b\",\"#8c564b\",\"#8c564b\",\"#8c564b\",\"#8c564b\",\"#8c564b\",\"#8c564b\",\"#8c564b\",\"#8c564b\",\"#8c564b\",\"#8c564b\",\"#8c564b\",\"#c49c94\",\"#c49c94\",\"#c49c94\",\"#c49c94\",\"#c49c94\",\"#c49c94\",\"#c49c94\",\"#c49c94\",\"#c49c94\",\"#c49c94\",\"#c49c94\",\"#c49c94\",\"#c49c94\",\"#c49c94\",\"#c49c94\",\"#c49c94\",\"#c49c94\",\"#c49c94\",\"#c49c94\",\"#c49c94\",\"#c49c94\",\"#c49c94\",\"#c49c94\",\"#c49c94\",\"#c49c94\",\"#c49c94\",\"#c49c94\",\"#c49c94\",\"#c49c94\",\"#c49c94\",\"#c49c94\",\"#c49c94\",\"#c49c94\",\"#c49c94\",\"#c49c94\",\"#c49c94\",\"#c49c94\",\"#c49c94\",\"#c49c94\",\"#c49c94\",\"#c49c94\",\"#c49c94\",\"#c49c94\",\"#c49c94\",\"#c49c94\",\"#c49c94\",\"#c49c94\",\"#c49c94\",\"#c49c94\",\"#c49c94\",\"#c49c94\",\"#c49c94\",\"#c49c94\",\"#c49c94\",\"#c49c94\",\"#c49c94\",\"#c49c94\",\"#c49c94\",\"#c49c94\",\"#c49c94\",\"#c49c94\",\"#c49c94\",\"#c49c94\",\"#c49c94\",\"#c49c94\",\"#c49c94\",\"#c49c94\",\"#c49c94\",\"#c49c94\",\"#c49c94\",\"#c49c94\",\"#c49c94\",\"#c49c94\",\"#c49c94\",\"#c49c94\",\"#c49c94\",\"#c49c94\",\"#c49c94\",\"#c49c94\",\"#c49c94\",\"#c49c94\",\"#c49c94\",\"#c49c94\",\"#c49c94\",\"#c49c94\",\"#c49c94\",\"#c49c94\",\"#c49c94\",\"#c49c94\",\"#c49c94\",\"#c49c94\",\"#c49c94\",\"#c49c94\",\"#c49c94\",\"#e377c2\",\"#e377c2\",\"#e377c2\",\"#e377c2\",\"#e377c2\",\"#e377c2\",\"#e377c2\",\"#e377c2\",\"#e377c2\",\"#e377c2\",\"#e377c2\",\"#e377c2\",\"#e377c2\",\"#e377c2\",\"#e377c2\",\"#e377c2\",\"#e377c2\",\"#e377c2\",\"#e377c2\",\"#e377c2\",\"#e377c2\",\"#e377c2\",\"#e377c2\",\"#e377c2\",\"#e377c2\",\"#e377c2\",\"#e377c2\",\"#e377c2\",\"#e377c2\",\"#e377c2\",\"#e377c2\",\"#e377c2\",\"#e377c2\",\"#e377c2\",\"#e377c2\",\"#e377c2\",\"#e377c2\",\"#e377c2\",\"#e377c2\",\"#e377c2\",\"#e377c2\",\"#e377c2\",\"#e377c2\",\"#e377c2\",\"#e377c2\",\"#e377c2\",\"#e377c2\",\"#e377c2\",\"#e377c2\",\"#e377c2\",\"#e377c2\",\"#e377c2\",\"#e377c2\",\"#e377c2\",\"#e377c2\",\"#e377c2\",\"#e377c2\",\"#e377c2\",\"#e377c2\",\"#e377c2\",\"#e377c2\",\"#e377c2\",\"#e377c2\",\"#e377c2\",\"#e377c2\",\"#e377c2\",\"#e377c2\",\"#e377c2\",\"#e377c2\",\"#e377c2\",\"#e377c2\",\"#e377c2\",\"#e377c2\",\"#f7b6d2\",\"#f7b6d2\",\"#f7b6d2\",\"#f7b6d2\",\"#f7b6d2\",\"#f7b6d2\",\"#f7b6d2\",\"#f7b6d2\",\"#f7b6d2\",\"#f7b6d2\",\"#f7b6d2\",\"#f7b6d2\",\"#f7b6d2\",\"#f7b6d2\",\"#f7b6d2\",\"#f7b6d2\",\"#f7b6d2\",\"#f7b6d2\",\"#f7b6d2\",\"#f7b6d2\",\"#f7b6d2\",\"#f7b6d2\",\"#f7b6d2\",\"#f7b6d2\",\"#f7b6d2\",\"#f7b6d2\",\"#f7b6d2\",\"#f7b6d2\",\"#f7b6d2\",\"#f7b6d2\",\"#f7b6d2\",\"#f7b6d2\",\"#f7b6d2\",\"#f7b6d2\",\"#f7b6d2\",\"#f7b6d2\",\"#f7b6d2\",\"#f7b6d2\",\"#f7b6d2\",\"#f7b6d2\",\"#f7b6d2\",\"#f7b6d2\",\"#f7b6d2\",\"#f7b6d2\",\"#f7b6d2\",\"#f7b6d2\",\"#f7b6d2\",\"#f7b6d2\",\"#f7b6d2\",\"#f7b6d2\",\"#f7b6d2\",\"#f7b6d2\",\"#f7b6d2\",\"#f7b6d2\",\"#f7b6d2\",\"#f7b6d2\",\"#f7b6d2\",\"#f7b6d2\",\"#f7b6d2\",\"#f7b6d2\",\"#f7b6d2\",\"#f7b6d2\",\"#f7b6d2\",\"#f7b6d2\",\"#f7b6d2\",\"#f7b6d2\",\"#f7b6d2\",\"#f7b6d2\",\"#f7b6d2\",\"#f7b6d2\",\"#f7b6d2\",\"#f7b6d2\",\"#f7b6d2\",\"#7f7f7f\",\"#7f7f7f\",\"#7f7f7f\",\"#7f7f7f\",\"#7f7f7f\",\"#7f7f7f\",\"#7f7f7f\",\"#7f7f7f\",\"#7f7f7f\",\"#7f7f7f\",\"#7f7f7f\",\"#7f7f7f\",\"#7f7f7f\",\"#7f7f7f\",\"#7f7f7f\",\"#7f7f7f\",\"#7f7f7f\",\"#7f7f7f\",\"#7f7f7f\",\"#7f7f7f\",\"#7f7f7f\",\"#7f7f7f\",\"#7f7f7f\",\"#7f7f7f\",\"#7f7f7f\",\"#7f7f7f\",\"#7f7f7f\",\"#7f7f7f\",\"#7f7f7f\",\"#7f7f7f\",\"#7f7f7f\",\"#7f7f7f\",\"#7f7f7f\",\"#7f7f7f\",\"#7f7f7f\",\"#7f7f7f\",\"#7f7f7f\",\"#7f7f7f\",\"#7f7f7f\",\"#7f7f7f\",\"#7f7f7f\",\"#7f7f7f\",\"#7f7f7f\",\"#7f7f7f\",\"#7f7f7f\",\"#7f7f7f\",\"#7f7f7f\",\"#7f7f7f\",\"#7f7f7f\",\"#7f7f7f\",\"#7f7f7f\",\"#7f7f7f\",\"#7f7f7f\",\"#c7c7c7\",\"#c7c7c7\",\"#c7c7c7\",\"#c7c7c7\",\"#c7c7c7\",\"#c7c7c7\",\"#c7c7c7\",\"#c7c7c7\",\"#c7c7c7\",\"#c7c7c7\",\"#c7c7c7\",\"#c7c7c7\",\"#c7c7c7\",\"#c7c7c7\",\"#c7c7c7\",\"#c7c7c7\",\"#c7c7c7\",\"#c7c7c7\",\"#c7c7c7\",\"#c7c7c7\",\"#c7c7c7\",\"#c7c7c7\",\"#c7c7c7\",\"#c7c7c7\",\"#c7c7c7\",\"#c7c7c7\",\"#c7c7c7\",\"#c7c7c7\",\"#c7c7c7\",\"#c7c7c7\",\"#c7c7c7\",\"#c7c7c7\",\"#c7c7c7\",\"#c7c7c7\",\"#c7c7c7\",\"#c7c7c7\",\"#c7c7c7\",\"#c7c7c7\",\"#c7c7c7\",\"#c7c7c7\",\"#c7c7c7\",\"#c7c7c7\",\"#c7c7c7\",\"#c7c7c7\",\"#c7c7c7\",\"#c7c7c7\",\"#c7c7c7\",\"#c7c7c7\",\"#c7c7c7\",\"#c7c7c7\",\"#c7c7c7\",\"#c7c7c7\",\"#c7c7c7\",\"#c7c7c7\",\"#c7c7c7\",\"#c7c7c7\",\"#c7c7c7\",\"#c7c7c7\",\"#c7c7c7\",\"#c7c7c7\",\"#c7c7c7\",\"#c7c7c7\",\"#c7c7c7\",\"#c7c7c7\",\"#c7c7c7\",\"#c7c7c7\",\"#c7c7c7\",\"#c7c7c7\",\"#c7c7c7\",\"#c7c7c7\",\"#c7c7c7\",\"#c7c7c7\",\"#c7c7c7\",\"#c7c7c7\",\"#c7c7c7\",\"#c7c7c7\",\"#c7c7c7\",\"#c7c7c7\",\"#c7c7c7\",\"#c7c7c7\",\"#c7c7c7\",\"#c7c7c7\",\"#c7c7c7\",\"#c7c7c7\",\"#c7c7c7\",\"#c7c7c7\",\"#c7c7c7\",\"#c7c7c7\",\"#c7c7c7\",\"#c7c7c7\",\"#c7c7c7\",\"#c7c7c7\",\"#c7c7c7\",\"#c7c7c7\",\"#c7c7c7\",\"#c7c7c7\",\"#c7c7c7\",\"#c7c7c7\",\"#c7c7c7\",\"#c7c7c7\",\"#c7c7c7\",\"#c7c7c7\",\"#c7c7c7\",\"#c7c7c7\",\"#c7c7c7\",\"#c7c7c7\",\"#c7c7c7\",\"#c7c7c7\",\"#c7c7c7\",\"#c7c7c7\",\"#c7c7c7\",\"#c7c7c7\",\"#c7c7c7\",\"#c7c7c7\",\"#c7c7c7\",\"#c7c7c7\",\"#c7c7c7\",\"#c7c7c7\",\"#c7c7c7\",\"#c7c7c7\",\"#c7c7c7\",\"#c7c7c7\",\"#c7c7c7\",\"#c7c7c7\",\"#c7c7c7\",\"#c7c7c7\",\"#c7c7c7\",\"#c7c7c7\",\"#c7c7c7\",\"#c7c7c7\",\"#c7c7c7\",\"#c7c7c7\",\"#c7c7c7\",\"#c7c7c7\",\"#c7c7c7\",\"#c7c7c7\",\"#c7c7c7\",\"#c7c7c7\",\"#c7c7c7\",\"#c7c7c7\",\"#c7c7c7\",\"#c7c7c7\",\"#c7c7c7\",\"#c7c7c7\",\"#c7c7c7\",\"#c7c7c7\",\"#c7c7c7\",\"#c7c7c7\",\"#c7c7c7\",\"#c7c7c7\",\"#c7c7c7\",\"#c7c7c7\",\"#c7c7c7\",\"#c7c7c7\",\"#c7c7c7\",\"#c7c7c7\",\"#c7c7c7\",\"#c7c7c7\",\"#c7c7c7\",\"#c7c7c7\",\"#c7c7c7\",\"#c7c7c7\",\"#c7c7c7\",\"#c7c7c7\",\"#c7c7c7\",\"#c7c7c7\",\"#c7c7c7\",\"#c7c7c7\",\"#c7c7c7\",\"#c7c7c7\",\"#c7c7c7\",\"#c7c7c7\",\"#c7c7c7\",\"#c7c7c7\",\"#c7c7c7\",\"#c7c7c7\",\"#c7c7c7\",\"#c7c7c7\",\"#c7c7c7\",\"#c7c7c7\",\"#c7c7c7\",\"#c7c7c7\",\"#c7c7c7\",\"#c7c7c7\",\"#c7c7c7\",\"#c7c7c7\",\"#c7c7c7\",\"#c7c7c7\",\"#c7c7c7\",\"#c7c7c7\",\"#c7c7c7\",\"#c7c7c7\",\"#c7c7c7\",\"#c7c7c7\",\"#c7c7c7\",\"#c7c7c7\",\"#c7c7c7\",\"#c7c7c7\",\"#c7c7c7\",\"#c7c7c7\",\"#c7c7c7\",\"#c7c7c7\",\"#c7c7c7\",\"#c7c7c7\",\"#c7c7c7\",\"#c7c7c7\",\"#c7c7c7\",\"#c7c7c7\",\"#c7c7c7\",\"#c7c7c7\",\"#c7c7c7\",\"#c7c7c7\",\"#c7c7c7\",\"#c7c7c7\",\"#c7c7c7\",\"#c7c7c7\",\"#c7c7c7\",\"#c7c7c7\",\"#c7c7c7\",\"#c7c7c7\",\"#c7c7c7\",\"#c7c7c7\",\"#c7c7c7\",\"#c7c7c7\",\"#c7c7c7\",\"#c7c7c7\",\"#c7c7c7\",\"#c7c7c7\",\"#c7c7c7\",\"#c7c7c7\",\"#c7c7c7\",\"#c7c7c7\",\"#c7c7c7\",\"#c7c7c7\",\"#c7c7c7\",\"#c7c7c7\",\"#c7c7c7\",\"#c7c7c7\",\"#c7c7c7\",\"#c7c7c7\",\"#c7c7c7\",\"#bcbd22\",\"#bcbd22\",\"#bcbd22\",\"#bcbd22\",\"#bcbd22\",\"#bcbd22\",\"#bcbd22\",\"#bcbd22\",\"#bcbd22\",\"#bcbd22\",\"#bcbd22\",\"#bcbd22\",\"#bcbd22\",\"#bcbd22\",\"#bcbd22\",\"#bcbd22\",\"#bcbd22\",\"#bcbd22\",\"#bcbd22\",\"#bcbd22\",\"#bcbd22\",\"#bcbd22\",\"#bcbd22\",\"#bcbd22\",\"#bcbd22\",\"#bcbd22\",\"#bcbd22\",\"#bcbd22\",\"#bcbd22\",\"#bcbd22\",\"#bcbd22\",\"#bcbd22\",\"#bcbd22\",\"#bcbd22\",\"#bcbd22\",\"#bcbd22\",\"#bcbd22\",\"#bcbd22\",\"#bcbd22\",\"#bcbd22\",\"#bcbd22\",\"#bcbd22\",\"#bcbd22\",\"#bcbd22\",\"#bcbd22\",\"#bcbd22\",\"#bcbd22\",\"#bcbd22\",\"#bcbd22\",\"#bcbd22\",\"#bcbd22\",\"#bcbd22\",\"#bcbd22\",\"#bcbd22\",\"#bcbd22\",\"#bcbd22\",\"#bcbd22\",\"#bcbd22\",\"#bcbd22\",\"#bcbd22\",\"#bcbd22\",\"#bcbd22\",\"#bcbd22\",\"#bcbd22\",\"#bcbd22\",\"#bcbd22\",\"#bcbd22\",\"#bcbd22\",\"#bcbd22\",\"#bcbd22\",\"#bcbd22\",\"#bcbd22\",\"#dbdb8d\",\"#dbdb8d\",\"#dbdb8d\",\"#dbdb8d\",\"#dbdb8d\",\"#dbdb8d\",\"#dbdb8d\",\"#dbdb8d\",\"#dbdb8d\",\"#dbdb8d\",\"#dbdb8d\",\"#dbdb8d\",\"#dbdb8d\",\"#dbdb8d\",\"#dbdb8d\",\"#dbdb8d\",\"#dbdb8d\",\"#dbdb8d\",\"#dbdb8d\",\"#dbdb8d\",\"#dbdb8d\",\"#dbdb8d\",\"#dbdb8d\",\"#dbdb8d\",\"#dbdb8d\",\"#dbdb8d\",\"#dbdb8d\",\"#dbdb8d\",\"#dbdb8d\",\"#dbdb8d\",\"#dbdb8d\",\"#dbdb8d\",\"#dbdb8d\",\"#dbdb8d\",\"#dbdb8d\",\"#dbdb8d\",\"#dbdb8d\",\"#dbdb8d\",\"#dbdb8d\",\"#dbdb8d\",\"#dbdb8d\",\"#dbdb8d\",\"#dbdb8d\",\"#dbdb8d\",\"#dbdb8d\",\"#dbdb8d\",\"#dbdb8d\",\"#dbdb8d\",\"#dbdb8d\",\"#dbdb8d\",\"#dbdb8d\",\"#dbdb8d\",\"#dbdb8d\",\"#dbdb8d\",\"#dbdb8d\",\"#dbdb8d\",\"#dbdb8d\",\"#dbdb8d\",\"#dbdb8d\",\"#dbdb8d\",\"#dbdb8d\",\"#dbdb8d\",\"#dbdb8d\",\"#dbdb8d\",\"#dbdb8d\",\"#dbdb8d\",\"#dbdb8d\",\"#dbdb8d\",\"#dbdb8d\",\"#dbdb8d\",\"#dbdb8d\",\"#dbdb8d\",\"#dbdb8d\",\"#dbdb8d\",\"#dbdb8d\",\"#dbdb8d\",\"#dbdb8d\",\"#dbdb8d\",\"#dbdb8d\",\"#dbdb8d\",\"#dbdb8d\",\"#dbdb8d\",\"#dbdb8d\",\"#dbdb8d\",\"#dbdb8d\",\"#dbdb8d\",\"#dbdb8d\",\"#dbdb8d\",\"#dbdb8d\",\"#dbdb8d\",\"#dbdb8d\",\"#17becf\",\"#17becf\",\"#17becf\",\"#17becf\",\"#17becf\",\"#17becf\",\"#17becf\",\"#17becf\",\"#17becf\",\"#17becf\",\"#17becf\",\"#17becf\",\"#17becf\",\"#17becf\",\"#17becf\",\"#17becf\",\"#17becf\",\"#17becf\",\"#17becf\",\"#17becf\",\"#17becf\",\"#17becf\",\"#17becf\",\"#17becf\",\"#17becf\",\"#17becf\",\"#17becf\",\"#17becf\",\"#17becf\",\"#17becf\",\"#17becf\",\"#17becf\",\"#17becf\",\"#17becf\",\"#17becf\",\"#17becf\",\"#17becf\",\"#17becf\",\"#17becf\",\"#17becf\",\"#17becf\",\"#17becf\",\"#17becf\",\"#17becf\",\"#17becf\",\"#17becf\",\"#17becf\",\"#17becf\",\"#17becf\",\"#17becf\",\"#17becf\",\"#17becf\",\"#17becf\",\"#17becf\",\"#17becf\",\"#17becf\",\"#17becf\",\"#17becf\",\"#17becf\",\"#17becf\",\"#17becf\",\"#17becf\",\"#17becf\",\"#17becf\",\"#17becf\",\"#17becf\",\"#17becf\",\"#17becf\",\"#17becf\",\"#17becf\",\"#17becf\",\"#17becf\",\"#17becf\",\"#17becf\",\"#17becf\",\"#17becf\",\"#17becf\",\"#17becf\",\"#17becf\",\"#17becf\",\"#17becf\",\"#17becf\",\"#17becf\",\"#17becf\"],\"line_color\":[\"#1f77b4\",\"#1f77b4\",\"#1f77b4\",\"#1f77b4\",\"#1f77b4\",\"#1f77b4\",\"#1f77b4\",\"#1f77b4\",\"#1f77b4\",\"#1f77b4\",\"#1f77b4\",\"#1f77b4\",\"#1f77b4\",\"#1f77b4\",\"#1f77b4\",\"#1f77b4\",\"#1f77b4\",\"#1f77b4\",\"#1f77b4\",\"#1f77b4\",\"#1f77b4\",\"#1f77b4\",\"#1f77b4\",\"#1f77b4\",\"#1f77b4\",\"#1f77b4\",\"#1f77b4\",\"#1f77b4\",\"#1f77b4\",\"#1f77b4\",\"#1f77b4\",\"#1f77b4\",\"#1f77b4\",\"#1f77b4\",\"#1f77b4\",\"#1f77b4\",\"#1f77b4\",\"#1f77b4\",\"#1f77b4\",\"#1f77b4\",\"#1f77b4\",\"#1f77b4\",\"#1f77b4\",\"#1f77b4\",\"#1f77b4\",\"#1f77b4\",\"#1f77b4\",\"#1f77b4\",\"#1f77b4\",\"#1f77b4\",\"#1f77b4\",\"#1f77b4\",\"#1f77b4\",\"#1f77b4\",\"#1f77b4\",\"#1f77b4\",\"#1f77b4\",\"#1f77b4\",\"#1f77b4\",\"#1f77b4\",\"#1f77b4\",\"#1f77b4\",\"#1f77b4\",\"#1f77b4\",\"#1f77b4\",\"#1f77b4\",\"#1f77b4\",\"#1f77b4\",\"#1f77b4\",\"#1f77b4\",\"#1f77b4\",\"#1f77b4\",\"#1f77b4\",\"#1f77b4\",\"#1f77b4\",\"#1f77b4\",\"#1f77b4\",\"#1f77b4\",\"#1f77b4\",\"#1f77b4\",\"#1f77b4\",\"#1f77b4\",\"#1f77b4\",\"#1f77b4\",\"#1f77b4\",\"#1f77b4\",\"#1f77b4\",\"#1f77b4\",\"#1f77b4\",\"#1f77b4\",\"#1f77b4\",\"#1f77b4\",\"#1f77b4\",\"#1f77b4\",\"#1f77b4\",\"#1f77b4\",\"#1f77b4\",\"#1f77b4\",\"#1f77b4\",\"#1f77b4\",\"#1f77b4\",\"#1f77b4\",\"#1f77b4\",\"#1f77b4\",\"#1f77b4\",\"#1f77b4\",\"#1f77b4\",\"#1f77b4\",\"#1f77b4\",\"#1f77b4\",\"#1f77b4\",\"#1f77b4\",\"#1f77b4\",\"#1f77b4\",\"#1f77b4\",\"#1f77b4\",\"#1f77b4\",\"#1f77b4\",\"#1f77b4\",\"#1f77b4\",\"#1f77b4\",\"#1f77b4\",\"#1f77b4\",\"#1f77b4\",\"#1f77b4\",\"#1f77b4\",\"#1f77b4\",\"#1f77b4\",\"#1f77b4\",\"#1f77b4\",\"#1f77b4\",\"#1f77b4\",\"#1f77b4\",\"#1f77b4\",\"#1f77b4\",\"#1f77b4\",\"#1f77b4\",\"#1f77b4\",\"#1f77b4\",\"#1f77b4\",\"#1f77b4\",\"#1f77b4\",\"#1f77b4\",\"#1f77b4\",\"#1f77b4\",\"#1f77b4\",\"#1f77b4\",\"#1f77b4\",\"#1f77b4\",\"#1f77b4\",\"#1f77b4\",\"#1f77b4\",\"#1f77b4\",\"#1f77b4\",\"#1f77b4\",\"#1f77b4\",\"#1f77b4\",\"#1f77b4\",\"#1f77b4\",\"#1f77b4\",\"#1f77b4\",\"#1f77b4\",\"#1f77b4\",\"#1f77b4\",\"#1f77b4\",\"#1f77b4\",\"#1f77b4\",\"#1f77b4\",\"#1f77b4\",\"#1f77b4\",\"#1f77b4\",\"#1f77b4\",\"#1f77b4\",\"#1f77b4\",\"#1f77b4\",\"#1f77b4\",\"#1f77b4\",\"#1f77b4\",\"#1f77b4\",\"#1f77b4\",\"#1f77b4\",\"#1f77b4\",\"#1f77b4\",\"#1f77b4\",\"#1f77b4\",\"#1f77b4\",\"#aec7e8\",\"#aec7e8\",\"#aec7e8\",\"#aec7e8\",\"#aec7e8\",\"#aec7e8\",\"#aec7e8\",\"#aec7e8\",\"#aec7e8\",\"#aec7e8\",\"#aec7e8\",\"#aec7e8\",\"#aec7e8\",\"#aec7e8\",\"#aec7e8\",\"#aec7e8\",\"#aec7e8\",\"#aec7e8\",\"#aec7e8\",\"#aec7e8\",\"#aec7e8\",\"#aec7e8\",\"#aec7e8\",\"#aec7e8\",\"#aec7e8\",\"#aec7e8\",\"#aec7e8\",\"#aec7e8\",\"#aec7e8\",\"#aec7e8\",\"#aec7e8\",\"#aec7e8\",\"#aec7e8\",\"#aec7e8\",\"#aec7e8\",\"#aec7e8\",\"#aec7e8\",\"#aec7e8\",\"#aec7e8\",\"#aec7e8\",\"#aec7e8\",\"#aec7e8\",\"#aec7e8\",\"#aec7e8\",\"#aec7e8\",\"#aec7e8\",\"#aec7e8\",\"#aec7e8\",\"#aec7e8\",\"#aec7e8\",\"#aec7e8\",\"#aec7e8\",\"#aec7e8\",\"#aec7e8\",\"#aec7e8\",\"#aec7e8\",\"#aec7e8\",\"#aec7e8\",\"#aec7e8\",\"#aec7e8\",\"#aec7e8\",\"#aec7e8\",\"#aec7e8\",\"#aec7e8\",\"#aec7e8\",\"#aec7e8\",\"#aec7e8\",\"#ff7f0e\",\"#ff7f0e\",\"#ff7f0e\",\"#ff7f0e\",\"#ff7f0e\",\"#ff7f0e\",\"#ff7f0e\",\"#ff7f0e\",\"#ff7f0e\",\"#ff7f0e\",\"#ff7f0e\",\"#ff7f0e\",\"#ff7f0e\",\"#ff7f0e\",\"#ff7f0e\",\"#ff7f0e\",\"#ff7f0e\",\"#ff7f0e\",\"#ff7f0e\",\"#ff7f0e\",\"#ff7f0e\",\"#ff7f0e\",\"#ff7f0e\",\"#ff7f0e\",\"#ff7f0e\",\"#ff7f0e\",\"#ff7f0e\",\"#ff7f0e\",\"#ff7f0e\",\"#ff7f0e\",\"#ff7f0e\",\"#ff7f0e\",\"#ff7f0e\",\"#ff7f0e\",\"#ff7f0e\",\"#ff7f0e\",\"#ff7f0e\",\"#ff7f0e\",\"#ff7f0e\",\"#ff7f0e\",\"#ff7f0e\",\"#ff7f0e\",\"#ff7f0e\",\"#ff7f0e\",\"#ff7f0e\",\"#ff7f0e\",\"#ff7f0e\",\"#ff7f0e\",\"#ff7f0e\",\"#ff7f0e\",\"#ff7f0e\",\"#ff7f0e\",\"#ff7f0e\",\"#ff7f0e\",\"#ff7f0e\",\"#ff7f0e\",\"#ff7f0e\",\"#ff7f0e\",\"#ff7f0e\",\"#ff7f0e\",\"#ff7f0e\",\"#ff7f0e\",\"#ff7f0e\",\"#ff7f0e\",\"#ff7f0e\",\"#ff7f0e\",\"#ff7f0e\",\"#ff7f0e\",\"#ff7f0e\",\"#ff7f0e\",\"#ff7f0e\",\"#ff7f0e\",\"#ff7f0e\",\"#ff7f0e\",\"#ff7f0e\",\"#ff7f0e\",\"#ff7f0e\",\"#ff7f0e\",\"#ff7f0e\",\"#ff7f0e\",\"#ff7f0e\",\"#ff7f0e\",\"#ff7f0e\",\"#ff7f0e\",\"#ff7f0e\",\"#ff7f0e\",\"#ff7f0e\",\"#ff7f0e\",\"#ff7f0e\",\"#ff7f0e\",\"#ff7f0e\",\"#ff7f0e\",\"#ff7f0e\",\"#ff7f0e\",\"#ff7f0e\",\"#ff7f0e\",\"#ff7f0e\",\"#ff7f0e\",\"#ff7f0e\",\"#ff7f0e\",\"#ff7f0e\",\"#ff7f0e\",\"#ff7f0e\",\"#ff7f0e\",\"#ff7f0e\",\"#ff7f0e\",\"#ff7f0e\",\"#ff7f0e\",\"#ff7f0e\",\"#ff7f0e\",\"#ff7f0e\",\"#ff7f0e\",\"#ff7f0e\",\"#ff7f0e\",\"#ff7f0e\",\"#ff7f0e\",\"#ff7f0e\",\"#ff7f0e\",\"#ff7f0e\",\"#ff7f0e\",\"#ff7f0e\",\"#ff7f0e\",\"#ff7f0e\",\"#ff7f0e\",\"#ff7f0e\",\"#ff7f0e\",\"#ff7f0e\",\"#ff7f0e\",\"#ff7f0e\",\"#ff7f0e\",\"#ff7f0e\",\"#ff7f0e\",\"#ff7f0e\",\"#ff7f0e\",\"#ff7f0e\",\"#ff7f0e\",\"#ff7f0e\",\"#ff7f0e\",\"#ff7f0e\",\"#ff7f0e\",\"#ffbb78\",\"#ffbb78\",\"#ffbb78\",\"#ffbb78\",\"#ffbb78\",\"#ffbb78\",\"#ffbb78\",\"#ffbb78\",\"#ffbb78\",\"#ffbb78\",\"#ffbb78\",\"#ffbb78\",\"#ffbb78\",\"#ffbb78\",\"#ffbb78\",\"#ffbb78\",\"#ffbb78\",\"#ffbb78\",\"#ffbb78\",\"#ffbb78\",\"#ffbb78\",\"#ffbb78\",\"#ffbb78\",\"#ffbb78\",\"#ffbb78\",\"#ffbb78\",\"#ffbb78\",\"#ffbb78\",\"#ffbb78\",\"#ffbb78\",\"#ffbb78\",\"#ffbb78\",\"#ffbb78\",\"#ffbb78\",\"#ffbb78\",\"#ffbb78\",\"#ffbb78\",\"#ffbb78\",\"#ffbb78\",\"#ffbb78\",\"#ffbb78\",\"#ffbb78\",\"#ffbb78\",\"#ffbb78\",\"#ffbb78\",\"#ffbb78\",\"#ffbb78\",\"#ffbb78\",\"#ffbb78\",\"#ffbb78\",\"#ffbb78\",\"#ffbb78\",\"#ffbb78\",\"#ffbb78\",\"#ffbb78\",\"#ffbb78\",\"#ffbb78\",\"#ffbb78\",\"#ffbb78\",\"#ffbb78\",\"#ffbb78\",\"#ffbb78\",\"#ffbb78\",\"#ffbb78\",\"#ffbb78\",\"#ffbb78\",\"#ffbb78\",\"#ffbb78\",\"#ffbb78\",\"#ffbb78\",\"#ffbb78\",\"#ffbb78\",\"#ffbb78\",\"#ffbb78\",\"#ffbb78\",\"#ffbb78\",\"#ffbb78\",\"#ffbb78\",\"#ffbb78\",\"#ffbb78\",\"#ffbb78\",\"#ffbb78\",\"#ffbb78\",\"#ffbb78\",\"#ffbb78\",\"#ffbb78\",\"#ffbb78\",\"#ffbb78\",\"#ffbb78\",\"#ffbb78\",\"#ffbb78\",\"#ffbb78\",\"#ffbb78\",\"#ffbb78\",\"#2ca02c\",\"#2ca02c\",\"#2ca02c\",\"#2ca02c\",\"#2ca02c\",\"#2ca02c\",\"#2ca02c\",\"#2ca02c\",\"#2ca02c\",\"#2ca02c\",\"#2ca02c\",\"#2ca02c\",\"#2ca02c\",\"#2ca02c\",\"#2ca02c\",\"#2ca02c\",\"#2ca02c\",\"#2ca02c\",\"#2ca02c\",\"#2ca02c\",\"#2ca02c\",\"#2ca02c\",\"#2ca02c\",\"#2ca02c\",\"#2ca02c\",\"#2ca02c\",\"#2ca02c\",\"#2ca02c\",\"#2ca02c\",\"#2ca02c\",\"#2ca02c\",\"#2ca02c\",\"#2ca02c\",\"#2ca02c\",\"#2ca02c\",\"#2ca02c\",\"#2ca02c\",\"#2ca02c\",\"#2ca02c\",\"#2ca02c\",\"#2ca02c\",\"#2ca02c\",\"#2ca02c\",\"#2ca02c\",\"#2ca02c\",\"#2ca02c\",\"#2ca02c\",\"#2ca02c\",\"#2ca02c\",\"#2ca02c\",\"#2ca02c\",\"#2ca02c\",\"#2ca02c\",\"#2ca02c\",\"#2ca02c\",\"#2ca02c\",\"#2ca02c\",\"#2ca02c\",\"#2ca02c\",\"#2ca02c\",\"#2ca02c\",\"#2ca02c\",\"#2ca02c\",\"#2ca02c\",\"#2ca02c\",\"#2ca02c\",\"#2ca02c\",\"#2ca02c\",\"#2ca02c\",\"#2ca02c\",\"#2ca02c\",\"#2ca02c\",\"#2ca02c\",\"#2ca02c\",\"#2ca02c\",\"#2ca02c\",\"#2ca02c\",\"#2ca02c\",\"#2ca02c\",\"#2ca02c\",\"#2ca02c\",\"#2ca02c\",\"#98df8a\",\"#98df8a\",\"#98df8a\",\"#98df8a\",\"#98df8a\",\"#98df8a\",\"#98df8a\",\"#98df8a\",\"#98df8a\",\"#98df8a\",\"#98df8a\",\"#98df8a\",\"#98df8a\",\"#98df8a\",\"#98df8a\",\"#98df8a\",\"#98df8a\",\"#98df8a\",\"#98df8a\",\"#98df8a\",\"#98df8a\",\"#98df8a\",\"#98df8a\",\"#98df8a\",\"#98df8a\",\"#98df8a\",\"#98df8a\",\"#98df8a\",\"#98df8a\",\"#98df8a\",\"#98df8a\",\"#98df8a\",\"#98df8a\",\"#98df8a\",\"#98df8a\",\"#98df8a\",\"#98df8a\",\"#98df8a\",\"#98df8a\",\"#98df8a\",\"#98df8a\",\"#98df8a\",\"#98df8a\",\"#98df8a\",\"#98df8a\",\"#98df8a\",\"#98df8a\",\"#98df8a\",\"#98df8a\",\"#98df8a\",\"#98df8a\",\"#98df8a\",\"#98df8a\",\"#98df8a\",\"#98df8a\",\"#98df8a\",\"#98df8a\",\"#98df8a\",\"#98df8a\",\"#98df8a\",\"#98df8a\",\"#98df8a\",\"#98df8a\",\"#98df8a\",\"#98df8a\",\"#98df8a\",\"#98df8a\",\"#98df8a\",\"#98df8a\",\"#98df8a\",\"#98df8a\",\"#98df8a\",\"#98df8a\",\"#98df8a\",\"#98df8a\",\"#98df8a\",\"#98df8a\",\"#98df8a\",\"#98df8a\",\"#98df8a\",\"#98df8a\",\"#98df8a\",\"#98df8a\",\"#98df8a\",\"#98df8a\",\"#98df8a\",\"#98df8a\",\"#98df8a\",\"#98df8a\",\"#98df8a\",\"#98df8a\",\"#98df8a\",\"#98df8a\",\"#98df8a\",\"#98df8a\",\"#98df8a\",\"#98df8a\",\"#98df8a\",\"#98df8a\",\"#98df8a\",\"#98df8a\",\"#98df8a\",\"#98df8a\",\"#98df8a\",\"#d62728\",\"#d62728\",\"#d62728\",\"#d62728\",\"#d62728\",\"#d62728\",\"#d62728\",\"#d62728\",\"#d62728\",\"#d62728\",\"#d62728\",\"#d62728\",\"#d62728\",\"#d62728\",\"#d62728\",\"#d62728\",\"#d62728\",\"#d62728\",\"#d62728\",\"#d62728\",\"#d62728\",\"#d62728\",\"#d62728\",\"#d62728\",\"#d62728\",\"#d62728\",\"#d62728\",\"#d62728\",\"#d62728\",\"#d62728\",\"#d62728\",\"#d62728\",\"#d62728\",\"#d62728\",\"#d62728\",\"#d62728\",\"#d62728\",\"#d62728\",\"#d62728\",\"#d62728\",\"#d62728\",\"#d62728\",\"#d62728\",\"#d62728\",\"#d62728\",\"#d62728\",\"#d62728\",\"#d62728\",\"#d62728\",\"#d62728\",\"#d62728\",\"#d62728\",\"#d62728\",\"#d62728\",\"#d62728\",\"#d62728\",\"#d62728\",\"#d62728\",\"#d62728\",\"#d62728\",\"#d62728\",\"#d62728\",\"#d62728\",\"#d62728\",\"#d62728\",\"#d62728\",\"#d62728\",\"#d62728\",\"#d62728\",\"#d62728\",\"#d62728\",\"#d62728\",\"#d62728\",\"#d62728\",\"#d62728\",\"#d62728\",\"#d62728\",\"#d62728\",\"#d62728\",\"#d62728\",\"#d62728\",\"#d62728\",\"#d62728\",\"#d62728\",\"#d62728\",\"#d62728\",\"#ff9896\",\"#ff9896\",\"#ff9896\",\"#ff9896\",\"#ff9896\",\"#ff9896\",\"#ff9896\",\"#ff9896\",\"#ff9896\",\"#ff9896\",\"#ff9896\",\"#ff9896\",\"#ff9896\",\"#ff9896\",\"#ff9896\",\"#ff9896\",\"#ff9896\",\"#ff9896\",\"#ff9896\",\"#ff9896\",\"#ff9896\",\"#ff9896\",\"#ff9896\",\"#ff9896\",\"#ff9896\",\"#ff9896\",\"#ff9896\",\"#ff9896\",\"#ff9896\",\"#ff9896\",\"#ff9896\",\"#ff9896\",\"#ff9896\",\"#ff9896\",\"#ff9896\",\"#ff9896\",\"#ff9896\",\"#ff9896\",\"#ff9896\",\"#ff9896\",\"#ff9896\",\"#ff9896\",\"#ff9896\",\"#ff9896\",\"#ff9896\",\"#ff9896\",\"#ff9896\",\"#ff9896\",\"#ff9896\",\"#ff9896\",\"#ff9896\",\"#ff9896\",\"#ff9896\",\"#ff9896\",\"#ff9896\",\"#ff9896\",\"#ff9896\",\"#ff9896\",\"#ff9896\",\"#ff9896\",\"#ff9896\",\"#ff9896\",\"#ff9896\",\"#ff9896\",\"#ff9896\",\"#ff9896\",\"#ff9896\",\"#ff9896\",\"#ff9896\",\"#ff9896\",\"#ff9896\",\"#ff9896\",\"#ff9896\",\"#ff9896\",\"#ff9896\",\"#ff9896\",\"#ff9896\",\"#ff9896\",\"#ff9896\",\"#ff9896\",\"#ff9896\",\"#ff9896\",\"#ff9896\",\"#ff9896\",\"#ff9896\",\"#ff9896\",\"#ff9896\",\"#ff9896\",\"#9467bd\",\"#9467bd\",\"#9467bd\",\"#9467bd\",\"#9467bd\",\"#9467bd\",\"#9467bd\",\"#9467bd\",\"#9467bd\",\"#9467bd\",\"#9467bd\",\"#9467bd\",\"#9467bd\",\"#9467bd\",\"#9467bd\",\"#9467bd\",\"#9467bd\",\"#9467bd\",\"#9467bd\",\"#9467bd\",\"#9467bd\",\"#9467bd\",\"#9467bd\",\"#9467bd\",\"#9467bd\",\"#9467bd\",\"#9467bd\",\"#9467bd\",\"#9467bd\",\"#9467bd\",\"#9467bd\",\"#9467bd\",\"#9467bd\",\"#9467bd\",\"#9467bd\",\"#9467bd\",\"#9467bd\",\"#9467bd\",\"#9467bd\",\"#9467bd\",\"#9467bd\",\"#9467bd\",\"#9467bd\",\"#9467bd\",\"#9467bd\",\"#9467bd\",\"#9467bd\",\"#9467bd\",\"#9467bd\",\"#9467bd\",\"#9467bd\",\"#9467bd\",\"#9467bd\",\"#9467bd\",\"#9467bd\",\"#9467bd\",\"#9467bd\",\"#9467bd\",\"#9467bd\",\"#9467bd\",\"#9467bd\",\"#9467bd\",\"#9467bd\",\"#9467bd\",\"#9467bd\",\"#9467bd\",\"#9467bd\",\"#9467bd\",\"#9467bd\",\"#9467bd\",\"#9467bd\",\"#9467bd\",\"#9467bd\",\"#9467bd\",\"#9467bd\",\"#9467bd\",\"#9467bd\",\"#9467bd\",\"#9467bd\",\"#9467bd\",\"#9467bd\",\"#9467bd\",\"#9467bd\",\"#9467bd\",\"#9467bd\",\"#9467bd\",\"#9467bd\",\"#9467bd\",\"#c5b0d5\",\"#c5b0d5\",\"#c5b0d5\",\"#c5b0d5\",\"#c5b0d5\",\"#c5b0d5\",\"#c5b0d5\",\"#c5b0d5\",\"#c5b0d5\",\"#c5b0d5\",\"#c5b0d5\",\"#c5b0d5\",\"#c5b0d5\",\"#c5b0d5\",\"#c5b0d5\",\"#c5b0d5\",\"#c5b0d5\",\"#c5b0d5\",\"#c5b0d5\",\"#c5b0d5\",\"#c5b0d5\",\"#c5b0d5\",\"#c5b0d5\",\"#c5b0d5\",\"#c5b0d5\",\"#c5b0d5\",\"#c5b0d5\",\"#c5b0d5\",\"#c5b0d5\",\"#c5b0d5\",\"#c5b0d5\",\"#c5b0d5\",\"#c5b0d5\",\"#c5b0d5\",\"#c5b0d5\",\"#c5b0d5\",\"#c5b0d5\",\"#c5b0d5\",\"#c5b0d5\",\"#c5b0d5\",\"#c5b0d5\",\"#c5b0d5\",\"#c5b0d5\",\"#c5b0d5\",\"#c5b0d5\",\"#c5b0d5\",\"#c5b0d5\",\"#c5b0d5\",\"#c5b0d5\",\"#c5b0d5\",\"#c5b0d5\",\"#c5b0d5\",\"#c5b0d5\",\"#c5b0d5\",\"#c5b0d5\",\"#c5b0d5\",\"#c5b0d5\",\"#c5b0d5\",\"#c5b0d5\",\"#c5b0d5\",\"#c5b0d5\",\"#c5b0d5\",\"#c5b0d5\",\"#c5b0d5\",\"#c5b0d5\",\"#c5b0d5\",\"#c5b0d5\",\"#c5b0d5\",\"#c5b0d5\",\"#c5b0d5\",\"#c5b0d5\",\"#c5b0d5\",\"#c5b0d5\",\"#c5b0d5\",\"#c5b0d5\",\"#c5b0d5\",\"#c5b0d5\",\"#c5b0d5\",\"#c5b0d5\",\"#c5b0d5\",\"#c5b0d5\",\"#c5b0d5\",\"#c5b0d5\",\"#c5b0d5\",\"#c5b0d5\",\"#c5b0d5\",\"#c5b0d5\",\"#c5b0d5\",\"#c5b0d5\",\"#c5b0d5\",\"#c5b0d5\",\"#c5b0d5\",\"#c5b0d5\",\"#c5b0d5\",\"#c5b0d5\",\"#c5b0d5\",\"#c5b0d5\",\"#c5b0d5\",\"#c5b0d5\",\"#c5b0d5\",\"#c5b0d5\",\"#c5b0d5\",\"#c5b0d5\",\"#c5b0d5\",\"#c5b0d5\",\"#c5b0d5\",\"#c5b0d5\",\"#c5b0d5\",\"#c5b0d5\",\"#c5b0d5\",\"#c5b0d5\",\"#c5b0d5\",\"#c5b0d5\",\"#c5b0d5\",\"#c5b0d5\",\"#c5b0d5\",\"#c5b0d5\",\"#c5b0d5\",\"#c5b0d5\",\"#c5b0d5\",\"#c5b0d5\",\"#c5b0d5\",\"#c5b0d5\",\"#c5b0d5\",\"#c5b0d5\",\"#c5b0d5\",\"#c5b0d5\",\"#c5b0d5\",\"#c5b0d5\",\"#c5b0d5\",\"#c5b0d5\",\"#c5b0d5\",\"#c5b0d5\",\"#c5b0d5\",\"#c5b0d5\",\"#c5b0d5\",\"#c5b0d5\",\"#c5b0d5\",\"#c5b0d5\",\"#c5b0d5\",\"#c5b0d5\",\"#c5b0d5\",\"#c5b0d5\",\"#c5b0d5\",\"#c5b0d5\",\"#c5b0d5\",\"#c5b0d5\",\"#c5b0d5\",\"#c5b0d5\",\"#c5b0d5\",\"#8c564b\",\"#8c564b\",\"#8c564b\",\"#8c564b\",\"#8c564b\",\"#8c564b\",\"#8c564b\",\"#8c564b\",\"#8c564b\",\"#8c564b\",\"#8c564b\",\"#8c564b\",\"#8c564b\",\"#8c564b\",\"#8c564b\",\"#8c564b\",\"#8c564b\",\"#8c564b\",\"#8c564b\",\"#8c564b\",\"#8c564b\",\"#8c564b\",\"#8c564b\",\"#8c564b\",\"#8c564b\",\"#8c564b\",\"#8c564b\",\"#8c564b\",\"#8c564b\",\"#8c564b\",\"#8c564b\",\"#8c564b\",\"#8c564b\",\"#8c564b\",\"#8c564b\",\"#8c564b\",\"#8c564b\",\"#8c564b\",\"#8c564b\",\"#8c564b\",\"#8c564b\",\"#8c564b\",\"#8c564b\",\"#8c564b\",\"#8c564b\",\"#8c564b\",\"#8c564b\",\"#8c564b\",\"#8c564b\",\"#8c564b\",\"#8c564b\",\"#8c564b\",\"#8c564b\",\"#8c564b\",\"#8c564b\",\"#8c564b\",\"#8c564b\",\"#8c564b\",\"#8c564b\",\"#8c564b\",\"#8c564b\",\"#8c564b\",\"#8c564b\",\"#8c564b\",\"#8c564b\",\"#8c564b\",\"#8c564b\",\"#8c564b\",\"#8c564b\",\"#8c564b\",\"#8c564b\",\"#8c564b\",\"#8c564b\",\"#8c564b\",\"#8c564b\",\"#8c564b\",\"#8c564b\",\"#8c564b\",\"#8c564b\",\"#8c564b\",\"#8c564b\",\"#8c564b\",\"#8c564b\",\"#8c564b\",\"#8c564b\",\"#8c564b\",\"#8c564b\",\"#8c564b\",\"#8c564b\",\"#8c564b\",\"#8c564b\",\"#8c564b\",\"#8c564b\",\"#8c564b\",\"#8c564b\",\"#8c564b\",\"#8c564b\",\"#8c564b\",\"#8c564b\",\"#8c564b\",\"#8c564b\",\"#8c564b\",\"#8c564b\",\"#8c564b\",\"#8c564b\",\"#8c564b\",\"#8c564b\",\"#8c564b\",\"#8c564b\",\"#8c564b\",\"#8c564b\",\"#8c564b\",\"#8c564b\",\"#8c564b\",\"#8c564b\",\"#8c564b\",\"#8c564b\",\"#8c564b\",\"#8c564b\",\"#8c564b\",\"#8c564b\",\"#8c564b\",\"#8c564b\",\"#8c564b\",\"#8c564b\",\"#8c564b\",\"#8c564b\",\"#8c564b\",\"#8c564b\",\"#8c564b\",\"#8c564b\",\"#8c564b\",\"#8c564b\",\"#8c564b\",\"#8c564b\",\"#8c564b\",\"#8c564b\",\"#8c564b\",\"#8c564b\",\"#8c564b\",\"#8c564b\",\"#8c564b\",\"#8c564b\",\"#8c564b\",\"#8c564b\",\"#8c564b\",\"#8c564b\",\"#8c564b\",\"#8c564b\",\"#8c564b\",\"#8c564b\",\"#8c564b\",\"#8c564b\",\"#8c564b\",\"#8c564b\",\"#8c564b\",\"#8c564b\",\"#8c564b\",\"#8c564b\",\"#8c564b\",\"#8c564b\",\"#8c564b\",\"#8c564b\",\"#8c564b\",\"#8c564b\",\"#8c564b\",\"#8c564b\",\"#8c564b\",\"#8c564b\",\"#8c564b\",\"#8c564b\",\"#8c564b\",\"#8c564b\",\"#8c564b\",\"#8c564b\",\"#8c564b\",\"#8c564b\",\"#8c564b\",\"#8c564b\",\"#8c564b\",\"#8c564b\",\"#8c564b\",\"#8c564b\",\"#8c564b\",\"#8c564b\",\"#8c564b\",\"#8c564b\",\"#8c564b\",\"#8c564b\",\"#8c564b\",\"#8c564b\",\"#8c564b\",\"#8c564b\",\"#8c564b\",\"#8c564b\",\"#8c564b\",\"#8c564b\",\"#8c564b\",\"#8c564b\",\"#8c564b\",\"#8c564b\",\"#8c564b\",\"#8c564b\",\"#8c564b\",\"#8c564b\",\"#8c564b\",\"#8c564b\",\"#8c564b\",\"#8c564b\",\"#8c564b\",\"#8c564b\",\"#8c564b\",\"#8c564b\",\"#8c564b\",\"#8c564b\",\"#c49c94\",\"#c49c94\",\"#c49c94\",\"#c49c94\",\"#c49c94\",\"#c49c94\",\"#c49c94\",\"#c49c94\",\"#c49c94\",\"#c49c94\",\"#c49c94\",\"#c49c94\",\"#c49c94\",\"#c49c94\",\"#c49c94\",\"#c49c94\",\"#c49c94\",\"#c49c94\",\"#c49c94\",\"#c49c94\",\"#c49c94\",\"#c49c94\",\"#c49c94\",\"#c49c94\",\"#c49c94\",\"#c49c94\",\"#c49c94\",\"#c49c94\",\"#c49c94\",\"#c49c94\",\"#c49c94\",\"#c49c94\",\"#c49c94\",\"#c49c94\",\"#c49c94\",\"#c49c94\",\"#c49c94\",\"#c49c94\",\"#c49c94\",\"#c49c94\",\"#c49c94\",\"#c49c94\",\"#c49c94\",\"#c49c94\",\"#c49c94\",\"#c49c94\",\"#c49c94\",\"#c49c94\",\"#c49c94\",\"#c49c94\",\"#c49c94\",\"#c49c94\",\"#c49c94\",\"#c49c94\",\"#c49c94\",\"#c49c94\",\"#c49c94\",\"#c49c94\",\"#c49c94\",\"#c49c94\",\"#c49c94\",\"#c49c94\",\"#c49c94\",\"#c49c94\",\"#c49c94\",\"#c49c94\",\"#c49c94\",\"#c49c94\",\"#c49c94\",\"#c49c94\",\"#c49c94\",\"#c49c94\",\"#c49c94\",\"#c49c94\",\"#c49c94\",\"#c49c94\",\"#c49c94\",\"#c49c94\",\"#c49c94\",\"#c49c94\",\"#c49c94\",\"#c49c94\",\"#c49c94\",\"#c49c94\",\"#c49c94\",\"#c49c94\",\"#c49c94\",\"#c49c94\",\"#c49c94\",\"#c49c94\",\"#c49c94\",\"#c49c94\",\"#c49c94\",\"#c49c94\",\"#e377c2\",\"#e377c2\",\"#e377c2\",\"#e377c2\",\"#e377c2\",\"#e377c2\",\"#e377c2\",\"#e377c2\",\"#e377c2\",\"#e377c2\",\"#e377c2\",\"#e377c2\",\"#e377c2\",\"#e377c2\",\"#e377c2\",\"#e377c2\",\"#e377c2\",\"#e377c2\",\"#e377c2\",\"#e377c2\",\"#e377c2\",\"#e377c2\",\"#e377c2\",\"#e377c2\",\"#e377c2\",\"#e377c2\",\"#e377c2\",\"#e377c2\",\"#e377c2\",\"#e377c2\",\"#e377c2\",\"#e377c2\",\"#e377c2\",\"#e377c2\",\"#e377c2\",\"#e377c2\",\"#e377c2\",\"#e377c2\",\"#e377c2\",\"#e377c2\",\"#e377c2\",\"#e377c2\",\"#e377c2\",\"#e377c2\",\"#e377c2\",\"#e377c2\",\"#e377c2\",\"#e377c2\",\"#e377c2\",\"#e377c2\",\"#e377c2\",\"#e377c2\",\"#e377c2\",\"#e377c2\",\"#e377c2\",\"#e377c2\",\"#e377c2\",\"#e377c2\",\"#e377c2\",\"#e377c2\",\"#e377c2\",\"#e377c2\",\"#e377c2\",\"#e377c2\",\"#e377c2\",\"#e377c2\",\"#e377c2\",\"#e377c2\",\"#e377c2\",\"#e377c2\",\"#e377c2\",\"#e377c2\",\"#e377c2\",\"#f7b6d2\",\"#f7b6d2\",\"#f7b6d2\",\"#f7b6d2\",\"#f7b6d2\",\"#f7b6d2\",\"#f7b6d2\",\"#f7b6d2\",\"#f7b6d2\",\"#f7b6d2\",\"#f7b6d2\",\"#f7b6d2\",\"#f7b6d2\",\"#f7b6d2\",\"#f7b6d2\",\"#f7b6d2\",\"#f7b6d2\",\"#f7b6d2\",\"#f7b6d2\",\"#f7b6d2\",\"#f7b6d2\",\"#f7b6d2\",\"#f7b6d2\",\"#f7b6d2\",\"#f7b6d2\",\"#f7b6d2\",\"#f7b6d2\",\"#f7b6d2\",\"#f7b6d2\",\"#f7b6d2\",\"#f7b6d2\",\"#f7b6d2\",\"#f7b6d2\",\"#f7b6d2\",\"#f7b6d2\",\"#f7b6d2\",\"#f7b6d2\",\"#f7b6d2\",\"#f7b6d2\",\"#f7b6d2\",\"#f7b6d2\",\"#f7b6d2\",\"#f7b6d2\",\"#f7b6d2\",\"#f7b6d2\",\"#f7b6d2\",\"#f7b6d2\",\"#f7b6d2\",\"#f7b6d2\",\"#f7b6d2\",\"#f7b6d2\",\"#f7b6d2\",\"#f7b6d2\",\"#f7b6d2\",\"#f7b6d2\",\"#f7b6d2\",\"#f7b6d2\",\"#f7b6d2\",\"#f7b6d2\",\"#f7b6d2\",\"#f7b6d2\",\"#f7b6d2\",\"#f7b6d2\",\"#f7b6d2\",\"#f7b6d2\",\"#f7b6d2\",\"#f7b6d2\",\"#f7b6d2\",\"#f7b6d2\",\"#f7b6d2\",\"#f7b6d2\",\"#f7b6d2\",\"#f7b6d2\",\"#7f7f7f\",\"#7f7f7f\",\"#7f7f7f\",\"#7f7f7f\",\"#7f7f7f\",\"#7f7f7f\",\"#7f7f7f\",\"#7f7f7f\",\"#7f7f7f\",\"#7f7f7f\",\"#7f7f7f\",\"#7f7f7f\",\"#7f7f7f\",\"#7f7f7f\",\"#7f7f7f\",\"#7f7f7f\",\"#7f7f7f\",\"#7f7f7f\",\"#7f7f7f\",\"#7f7f7f\",\"#7f7f7f\",\"#7f7f7f\",\"#7f7f7f\",\"#7f7f7f\",\"#7f7f7f\",\"#7f7f7f\",\"#7f7f7f\",\"#7f7f7f\",\"#7f7f7f\",\"#7f7f7f\",\"#7f7f7f\",\"#7f7f7f\",\"#7f7f7f\",\"#7f7f7f\",\"#7f7f7f\",\"#7f7f7f\",\"#7f7f7f\",\"#7f7f7f\",\"#7f7f7f\",\"#7f7f7f\",\"#7f7f7f\",\"#7f7f7f\",\"#7f7f7f\",\"#7f7f7f\",\"#7f7f7f\",\"#7f7f7f\",\"#7f7f7f\",\"#7f7f7f\",\"#7f7f7f\",\"#7f7f7f\",\"#7f7f7f\",\"#7f7f7f\",\"#7f7f7f\",\"#c7c7c7\",\"#c7c7c7\",\"#c7c7c7\",\"#c7c7c7\",\"#c7c7c7\",\"#c7c7c7\",\"#c7c7c7\",\"#c7c7c7\",\"#c7c7c7\",\"#c7c7c7\",\"#c7c7c7\",\"#c7c7c7\",\"#c7c7c7\",\"#c7c7c7\",\"#c7c7c7\",\"#c7c7c7\",\"#c7c7c7\",\"#c7c7c7\",\"#c7c7c7\",\"#c7c7c7\",\"#c7c7c7\",\"#c7c7c7\",\"#c7c7c7\",\"#c7c7c7\",\"#c7c7c7\",\"#c7c7c7\",\"#c7c7c7\",\"#c7c7c7\",\"#c7c7c7\",\"#c7c7c7\",\"#c7c7c7\",\"#c7c7c7\",\"#c7c7c7\",\"#c7c7c7\",\"#c7c7c7\",\"#c7c7c7\",\"#c7c7c7\",\"#c7c7c7\",\"#c7c7c7\",\"#c7c7c7\",\"#c7c7c7\",\"#c7c7c7\",\"#c7c7c7\",\"#c7c7c7\",\"#c7c7c7\",\"#c7c7c7\",\"#c7c7c7\",\"#c7c7c7\",\"#c7c7c7\",\"#c7c7c7\",\"#c7c7c7\",\"#c7c7c7\",\"#c7c7c7\",\"#c7c7c7\",\"#c7c7c7\",\"#c7c7c7\",\"#c7c7c7\",\"#c7c7c7\",\"#c7c7c7\",\"#c7c7c7\",\"#c7c7c7\",\"#c7c7c7\",\"#c7c7c7\",\"#c7c7c7\",\"#c7c7c7\",\"#c7c7c7\",\"#c7c7c7\",\"#c7c7c7\",\"#c7c7c7\",\"#c7c7c7\",\"#c7c7c7\",\"#c7c7c7\",\"#c7c7c7\",\"#c7c7c7\",\"#c7c7c7\",\"#c7c7c7\",\"#c7c7c7\",\"#c7c7c7\",\"#c7c7c7\",\"#c7c7c7\",\"#c7c7c7\",\"#c7c7c7\",\"#c7c7c7\",\"#c7c7c7\",\"#c7c7c7\",\"#c7c7c7\",\"#c7c7c7\",\"#c7c7c7\",\"#c7c7c7\",\"#c7c7c7\",\"#c7c7c7\",\"#c7c7c7\",\"#c7c7c7\",\"#c7c7c7\",\"#c7c7c7\",\"#c7c7c7\",\"#c7c7c7\",\"#c7c7c7\",\"#c7c7c7\",\"#c7c7c7\",\"#c7c7c7\",\"#c7c7c7\",\"#c7c7c7\",\"#c7c7c7\",\"#c7c7c7\",\"#c7c7c7\",\"#c7c7c7\",\"#c7c7c7\",\"#c7c7c7\",\"#c7c7c7\",\"#c7c7c7\",\"#c7c7c7\",\"#c7c7c7\",\"#c7c7c7\",\"#c7c7c7\",\"#c7c7c7\",\"#c7c7c7\",\"#c7c7c7\",\"#c7c7c7\",\"#c7c7c7\",\"#c7c7c7\",\"#c7c7c7\",\"#c7c7c7\",\"#c7c7c7\",\"#c7c7c7\",\"#c7c7c7\",\"#c7c7c7\",\"#c7c7c7\",\"#c7c7c7\",\"#c7c7c7\",\"#c7c7c7\",\"#c7c7c7\",\"#c7c7c7\",\"#c7c7c7\",\"#c7c7c7\",\"#c7c7c7\",\"#c7c7c7\",\"#c7c7c7\",\"#c7c7c7\",\"#c7c7c7\",\"#c7c7c7\",\"#c7c7c7\",\"#c7c7c7\",\"#c7c7c7\",\"#c7c7c7\",\"#c7c7c7\",\"#c7c7c7\",\"#c7c7c7\",\"#c7c7c7\",\"#c7c7c7\",\"#c7c7c7\",\"#c7c7c7\",\"#c7c7c7\",\"#c7c7c7\",\"#c7c7c7\",\"#c7c7c7\",\"#c7c7c7\",\"#c7c7c7\",\"#c7c7c7\",\"#c7c7c7\",\"#c7c7c7\",\"#c7c7c7\",\"#c7c7c7\",\"#c7c7c7\",\"#c7c7c7\",\"#c7c7c7\",\"#c7c7c7\",\"#c7c7c7\",\"#c7c7c7\",\"#c7c7c7\",\"#c7c7c7\",\"#c7c7c7\",\"#c7c7c7\",\"#c7c7c7\",\"#c7c7c7\",\"#c7c7c7\",\"#c7c7c7\",\"#c7c7c7\",\"#c7c7c7\",\"#c7c7c7\",\"#c7c7c7\",\"#c7c7c7\",\"#c7c7c7\",\"#c7c7c7\",\"#c7c7c7\",\"#c7c7c7\",\"#c7c7c7\",\"#c7c7c7\",\"#c7c7c7\",\"#c7c7c7\",\"#c7c7c7\",\"#c7c7c7\",\"#c7c7c7\",\"#c7c7c7\",\"#c7c7c7\",\"#c7c7c7\",\"#c7c7c7\",\"#c7c7c7\",\"#c7c7c7\",\"#c7c7c7\",\"#c7c7c7\",\"#c7c7c7\",\"#c7c7c7\",\"#c7c7c7\",\"#c7c7c7\",\"#c7c7c7\",\"#c7c7c7\",\"#c7c7c7\",\"#c7c7c7\",\"#c7c7c7\",\"#c7c7c7\",\"#c7c7c7\",\"#c7c7c7\",\"#c7c7c7\",\"#c7c7c7\",\"#c7c7c7\",\"#c7c7c7\",\"#c7c7c7\",\"#c7c7c7\",\"#c7c7c7\",\"#c7c7c7\",\"#c7c7c7\",\"#c7c7c7\",\"#c7c7c7\",\"#c7c7c7\",\"#c7c7c7\",\"#c7c7c7\",\"#c7c7c7\",\"#c7c7c7\",\"#c7c7c7\",\"#c7c7c7\",\"#c7c7c7\",\"#c7c7c7\",\"#c7c7c7\",\"#c7c7c7\",\"#c7c7c7\",\"#c7c7c7\",\"#c7c7c7\",\"#c7c7c7\",\"#c7c7c7\",\"#c7c7c7\",\"#bcbd22\",\"#bcbd22\",\"#bcbd22\",\"#bcbd22\",\"#bcbd22\",\"#bcbd22\",\"#bcbd22\",\"#bcbd22\",\"#bcbd22\",\"#bcbd22\",\"#bcbd22\",\"#bcbd22\",\"#bcbd22\",\"#bcbd22\",\"#bcbd22\",\"#bcbd22\",\"#bcbd22\",\"#bcbd22\",\"#bcbd22\",\"#bcbd22\",\"#bcbd22\",\"#bcbd22\",\"#bcbd22\",\"#bcbd22\",\"#bcbd22\",\"#bcbd22\",\"#bcbd22\",\"#bcbd22\",\"#bcbd22\",\"#bcbd22\",\"#bcbd22\",\"#bcbd22\",\"#bcbd22\",\"#bcbd22\",\"#bcbd22\",\"#bcbd22\",\"#bcbd22\",\"#bcbd22\",\"#bcbd22\",\"#bcbd22\",\"#bcbd22\",\"#bcbd22\",\"#bcbd22\",\"#bcbd22\",\"#bcbd22\",\"#bcbd22\",\"#bcbd22\",\"#bcbd22\",\"#bcbd22\",\"#bcbd22\",\"#bcbd22\",\"#bcbd22\",\"#bcbd22\",\"#bcbd22\",\"#bcbd22\",\"#bcbd22\",\"#bcbd22\",\"#bcbd22\",\"#bcbd22\",\"#bcbd22\",\"#bcbd22\",\"#bcbd22\",\"#bcbd22\",\"#bcbd22\",\"#bcbd22\",\"#bcbd22\",\"#bcbd22\",\"#bcbd22\",\"#bcbd22\",\"#bcbd22\",\"#bcbd22\",\"#bcbd22\",\"#dbdb8d\",\"#dbdb8d\",\"#dbdb8d\",\"#dbdb8d\",\"#dbdb8d\",\"#dbdb8d\",\"#dbdb8d\",\"#dbdb8d\",\"#dbdb8d\",\"#dbdb8d\",\"#dbdb8d\",\"#dbdb8d\",\"#dbdb8d\",\"#dbdb8d\",\"#dbdb8d\",\"#dbdb8d\",\"#dbdb8d\",\"#dbdb8d\",\"#dbdb8d\",\"#dbdb8d\",\"#dbdb8d\",\"#dbdb8d\",\"#dbdb8d\",\"#dbdb8d\",\"#dbdb8d\",\"#dbdb8d\",\"#dbdb8d\",\"#dbdb8d\",\"#dbdb8d\",\"#dbdb8d\",\"#dbdb8d\",\"#dbdb8d\",\"#dbdb8d\",\"#dbdb8d\",\"#dbdb8d\",\"#dbdb8d\",\"#dbdb8d\",\"#dbdb8d\",\"#dbdb8d\",\"#dbdb8d\",\"#dbdb8d\",\"#dbdb8d\",\"#dbdb8d\",\"#dbdb8d\",\"#dbdb8d\",\"#dbdb8d\",\"#dbdb8d\",\"#dbdb8d\",\"#dbdb8d\",\"#dbdb8d\",\"#dbdb8d\",\"#dbdb8d\",\"#dbdb8d\",\"#dbdb8d\",\"#dbdb8d\",\"#dbdb8d\",\"#dbdb8d\",\"#dbdb8d\",\"#dbdb8d\",\"#dbdb8d\",\"#dbdb8d\",\"#dbdb8d\",\"#dbdb8d\",\"#dbdb8d\",\"#dbdb8d\",\"#dbdb8d\",\"#dbdb8d\",\"#dbdb8d\",\"#dbdb8d\",\"#dbdb8d\",\"#dbdb8d\",\"#dbdb8d\",\"#dbdb8d\",\"#dbdb8d\",\"#dbdb8d\",\"#dbdb8d\",\"#dbdb8d\",\"#dbdb8d\",\"#dbdb8d\",\"#dbdb8d\",\"#dbdb8d\",\"#dbdb8d\",\"#dbdb8d\",\"#dbdb8d\",\"#dbdb8d\",\"#dbdb8d\",\"#dbdb8d\",\"#dbdb8d\",\"#dbdb8d\",\"#dbdb8d\",\"#dbdb8d\",\"#17becf\",\"#17becf\",\"#17becf\",\"#17becf\",\"#17becf\",\"#17becf\",\"#17becf\",\"#17becf\",\"#17becf\",\"#17becf\",\"#17becf\",\"#17becf\",\"#17becf\",\"#17becf\",\"#17becf\",\"#17becf\",\"#17becf\",\"#17becf\",\"#17becf\",\"#17becf\",\"#17becf\",\"#17becf\",\"#17becf\",\"#17becf\",\"#17becf\",\"#17becf\",\"#17becf\",\"#17becf\",\"#17becf\",\"#17becf\",\"#17becf\",\"#17becf\",\"#17becf\",\"#17becf\",\"#17becf\",\"#17becf\",\"#17becf\",\"#17becf\",\"#17becf\",\"#17becf\",\"#17becf\",\"#17becf\",\"#17becf\",\"#17becf\",\"#17becf\",\"#17becf\",\"#17becf\",\"#17becf\",\"#17becf\",\"#17becf\",\"#17becf\",\"#17becf\",\"#17becf\",\"#17becf\",\"#17becf\",\"#17becf\",\"#17becf\",\"#17becf\",\"#17becf\",\"#17becf\",\"#17becf\",\"#17becf\",\"#17becf\",\"#17becf\",\"#17becf\",\"#17becf\",\"#17becf\",\"#17becf\",\"#17becf\",\"#17becf\",\"#17becf\",\"#17becf\",\"#17becf\",\"#17becf\",\"#17becf\",\"#17becf\",\"#17becf\",\"#17becf\",\"#17becf\",\"#17becf\",\"#17becf\",\"#17becf\",\"#17becf\",\"#17becf\"],\"x\":[49,125,58,55,129,132,106,149,134,89,141,124,127,146,131,124,147,142,159,128,142,163,123,121,131,151,152,75,34,142,35,116,78,134,38,39,127,140,152,127,129,146,149,127,147,149,150,137,142,125,127,166,125,130,128,130,75,158,144,170,149,124,158,152,143,149,128,157,110,154,85,150,153,152,26,47,133,135,62,139,147,116,136,149,149,150,119,128,130,133,71,125,159,111,121,71,109,45,152,134,137,66,123,147,137,115,130,120,126,136,41,125,135,136,148,127,148,128,138,148,148,142,152,147,140,135,135,161,164,146,118,62,146,113,109,149,132,146,128,146,140,125,134,145,143,149,155,153,136,147,137,131,139,129,113,120,134,143,128,106,127,147,148,144,125,133,131,125,130,147,161,145,151,127,80,132,138,135,99,109,124,140,130,122,104,104,46,24,46,60,44,152,60,43,43,47,147,44,68,49,32,84,31,137,150,46,64,47,32,45,84,129,49,80,92,45,45,56,47,139,67,45,50,46,46,47,45,46,50,47,46,82,31,73,46,50,129,45,50,53,143,47,45,85,125,44,120,49,23,48,31,95,45,79,86,69,78,78,69,69,80,67,144,71,66,68,71,74,78,58,77,66,70,58,57,66,70,69,85,64,67,73,65,64,74,81,67,68,86,67,83,71,83,84,72,74,35,80,61,69,73,74,83,65,77,75,75,58,57,72,67,77,74,68,58,84,70,89,82,72,61,73,67,56,72,71,57,85,75,104,68,75,71,79,68,71,70,68,70,75,72,89,48,66,69,91,74,80,61,76,72,72,72,60,73,48,81,136,90,65,84,78,82,69,74,74,71,75,84,72,92,73,73,69,70,73,72,81,66,77,66,69,78,78,64,71,71,65,47,41,88,64,78,55,55,53,61,63,60,69,66,40,42,56,61,54,55,92,61,56,142,77,46,135,60,59,87,59,67,55,61,45,70,64,56,149,46,143,39,55,33,151,38,70,69,133,60,48,79,58,79,51,33,43,70,53,56,10,129,57,45,60,58,66,75,50,60,63,45,58,56,36,45,59,55,53,64,44,57,62,63,61,49,125,58,60,58,56,65,42,51,59,57,75,59,57,75,32,31,32,37,52,76,142,35,28,41,85,30,76,25,32,38,34,124,44,35,58,31,39,28,37,13,26,30,38,33,63,36,126,33,43,32,83,30,59,30,41,32,40,138,36,38,30,100,36,23,32,34,28,26,72,53,33,38,35,75,22,24,32,36,64,31,21,36,34,39,21,73,137,38,71,40,43,24,32,30,32,50,137,138,138,138,139,136,145,40,155,136,121,116,134,78,138,145,135,42,119,77,140,56,144,136,135,136,67,167,149,91,28,158,142,136,146,143,137,136,91,82,147,139,149,85,143,131,49,86,146,140,140,135,121,140,147,142,71,29,34,140,128,137,139,134,148,73,141,129,107,138,134,141,140,147,131,140,137,128,137,148,152,138,48,136,139,138,67,136,142,45,157,140,132,146,128,123,119,139,147,32,141,144,135,141,63,37,40,41,12,42,74,69,62,54,140,42,139,28,43,138,78,39,81,71,36,69,59,138,124,30,97,136,63,43,39,37,46,41,40,39,36,58,57,24,24,40,37,108,39,41,132,128,85,14,132,76,22,38,47,142,42,70,65,82,77,78,83,144,57,57,75,91,136,70,72,72,84,59,72,69,73,74,73,73,58,56,78,69,78,69,92,84,85,80,70,121,65,86,47,87,85,29,93,93,31,93,94,71,84,32,127,85,142,40,55,81,64,86,136,82,152,96,87,91,82,84,137,78,57,118,85,77,87,70,89,80,46,92,84,84,88,83,123,69,88,86,89,87,100,155,85,83,84,50,84,159,32,87,147,83,84,83,37,90,85,85,39,79,94,86,85,34,60,150,82,85,69,69,64,35,75,69,141,60,151,68,149,42,85,72,54,71,136,123,133,73,126,54,59,37,62,54,62,83,146,51,57,144,72,54,57,69,88,62,73,59,18,53,153,32,62,85,147,62,91,57,122,58,55,51,63,90,81,86,140,65,23,74,86,138,143,53,53,55,59,59,32,40,12,31,77,146,35,27,27,27,32,41,12,32,77,145,35,26,27,26,148,92,77,47,152,80,78,147,144,145,82,158,78,143,86,141,63,57,75,91,92,72,70,86,75,82,67,77,90,92,153,66,121,75,78,152,125,73,76,163,145,81,112,92,150,76,31,72,65,140,73,82,88,75,87,142,87,79,77,149,80,75,67,85,138,78,143,143,79,142,80,121,88,85,79,83,79,126,69,86,72,140,55,83,84,85,76,155,70,77,81,84,142,41,79,82,69,78,51,81,76,146,81,87,85,50,83,65,80,75,61,146,84,45,67,65,70,147,91,124,73,85,81,81,54,76,81,83,81,85,50,60,121,76,82,152,76,87,137,83,84,81,161,78,81,64,68,52,151,152,45,130,56,124,62,45,130,56,124,62,62,97,98,121,122,127,54,34,95,62,50,56,59,55,61,120,64,104,115,66,68,124,132,45,62,61,62,124,124,66,56,59,54,119,124,82,122,127,68,124,126,126,119,124,70,55,55,121,114,62,121,141,132,112,65,123,64,66,58,108,65,60,142,54,114,63,54,109,34,114,112,60,113,121,124,121,57,63,67,53,128,61,117,63,59,59,110,47,54,47,61,61,125,77,56,112,123,123,48,55,123,61,124,112,53,61,78,64,124,58,60,120,59,135,59,65,128,90,119,123,57,126,123,60,118,91,52,69,45,122,44,51,115,55,77,128,119,39,60,129,129,116,61,71,84,65,69,125,122,95,70,110,128,59,64,39,59,138,126,64,73,59,124,88,108,61,65,54,61,48,119,132,55,120,128,63,62,62,53,65,116,64,67,105,124,147,121,128,70,125,48,119,127,121,61,75,131,55,120,110,63,94,57,67,68,137,150,136,158,137,150,136,158,137,124,131,130,135,146,131,139,138,142,139,134,154,134,143,130,149,142,144,96,146,144,154,141,134,146,143,128,141,141,127,149,129,142,139,144,142,147,131,136,133,138,142,142,141,142,140,140,142,141,142,142,124,145,140,151,132,137,135,134,150,135,125,114,136,118,137,136,145,128,136,134,134,145,129,124,144,127,139,142,138,144,132,133,121,122,61,30,83,141,77,82,73,81,39,57,64,81,63,80,67,74,56,83,83,55,59,62,76,143,62,71,81,131,140,130,40,79,54,67,136,57,16,61,68,69,28,57,115,51,42,126,77,73,82,57,124,30,49,120,125,30,61,146,122,68,120,121,64,68,58,57,18,47,151,54,60,80,81,130,62,130,62,106,127,52,39,171,54,66,141,122,123,60,59,89,79,67,64,135,31,68,58,70,134,62,67,63,138,43,102,120,82,126,65,124,123,57,79,54,57,89,81,78,36,59,55,123,65,123,29,81,71,34,43,68,60,62,68,125,53,118,60,129,45,124,64,12,143,59,124,153,58,57,72,66,72,66,69,71,65,75,64,81,68,68,49,70,73,71,69,65,79,66,84,72,60,64,73,64,67,70,56,66,66,79,60,82,67,80,67,73,63,68,74,70,69,39,67,80,59,72,12,67,53,54,52,41,62,63,40,53,56,65,71,41,42,50,54,85,33,41,149,41,43,36,42,49,47,38,42,80,55,41,41,49,57,74,62,56,51,84,60,51,39,29,37,47,36,62,99,55,38,73,36,59,43,31,42,46,51,57,47,61,36,68,39,58,56,50,59,63,105,44,43,46,42,70,44,68,68,59,43,74,52,68,25,144,60,54,31,34,75,68,57,43,72,61,52,49,40,53,55,55,50,40,69,53,66,41,70,72,67,40,44,65,33,134,30,62,66,57,42,42,27,52,57,51,51,52,44,63,53,63,41,72,66,54,67,63,68,46,51,47,55,51,70,45,66,39,71,46,68,66,60,45,71,65,45,41,29,53,71,55,56,63,59,20,54,34,44,65,47,45,75,28,42,57,54,53,63,47,33,36,55,73,60,48,57,41,30,39,42,85,70,47,47,70,66,48,56,55,38,60,62,32,55,47,55,52,74,36,63,57,55,54,30,33,26,76,37,39,67,46,65,66,64,81,53,73,44,56,46,58,42,36,62,19,64,82,52,39,33,52,47,38,64,63,54,57,78,55,35,69,68,65,63,74,64,64,29,48,70,64,50,49,67,52,57,73,22,50,54,64,61,70,74,67,76,46,38,62,75,35,39,46,131,60,64,95,95,35,66,39,90,46,68,91,68,32,64,78,54,69,57,69,56,38,84,64,62,48,48,70,67,84,65,66,78,62,50,62,64,31,58,61,63,58,62,52,57,51,55,56,63,43,71,52,52,62,48,54,58,56,69,61,61,58,43,60,46,69,42,52,65,48,52,51,70,49,77,53,80,57,60,59,48,70,59,73,59,33,58,60,58,61,65,71,46,76,47,54,68,72,58,59,46,46,68,67,50,70,51,66,51,52,67,63,64,54,81,70,49,56,50,59,66,46,47,119,85,110,67,92,57,93,84,90,51,104,93,90,52,68,37,109,88,44,64,101,90,71,70,97,90,66,83,79,87,83,78,90,72,74,85,48,74,60,97,87,90,81,80,82,95,89,117,51,71,82,61,72,54,68,89,81,83,64,90,97,95,91,77,103,87,96,96,92,61,95,75,101,75,88,90,83,50,56,86,72,40,148,41],\"y\":[63,133,76,125,123,121,107,115,118,131,124,121,119,114,133,116,117,114,117,116,114,117,110,132,120,154,154,142,134,121,145,108,82,144,139,61,117,149,154,113,112,111,151,118,154,154,160,99,164,121,167,153,104,107,121,108,103,105,110,110,114,117,107,122,106,117,118,124,120,127,134,110,113,121,133,58,116,118,67,148,119,132,130,118,111,120,121,116,122,120,93,117,129,115,116,138,114,64,119,123,109,81,129,121,138,129,114,118,109,166,123,110,106,126,147,116,159,119,150,151,156,150,153,155,112,158,119,159,173,158,111,153,155,110,121,156,46,156,120,154,115,118,152,151,112,150,154,158,160,113,111,119,114,117,114,111,116,115,117,138,117,157,154,178,116,109,125,122,120,154,141,154,166,117,125,150,161,120,127,134,111,114,139,129,123,124,62,139,62,71,63,34,76,74,67,64,153,66,151,61,135,138,136,36,144,64,147,64,138,65,140,120,61,132,121,64,65,58,63,45,156,66,63,70,65,66,65,64,56,65,35,138,58,140,60,59,58,65,60,61,111,62,67,105,116,64,113,57,138,63,136,141,68,144,136,154,136,156,154,150,137,144,43,143,154,144,143,133,156,165,135,154,160,86,154,135,140,155,145,152,154,144,134,146,156,164,161,160,131,153,135,138,138,179,142,141,81,146,158,155,142,136,139,149,140,130,136,163,158,154,153,150,165,163,131,152,155,158,148,154,163,152,156,130,140,156,151,156,143,131,152,149,151,147,154,162,144,155,166,135,140,138,56,170,165,140,139,145,134,172,148,155,149,119,141,57,139,125,111,142,139,137,138,152,134,141,156,98,142,165,134,158,140,147,130,141,138,129,144,133,150,155,155,137,131,163,157,148,58,63,142,158,154,74,80,87,75,91,78,90,90,132,86,145,76,76,78,133,75,83,47,140,62,45,76,75,132,84,82,53,156,49,81,75,84,160,75,54,63,79,152,158,85,157,83,37,78,80,130,76,132,74,140,73,143,69,78,147,108,74,65,77,77,81,145,79,74,88,74,75,73,141,76,76,74,76,82,81,76,78,76,91,64,107,77,75,79,74,92,87,76,77,86,85,78,87,86,125,138,148,129,168,151,99,136,144,125,133,132,159,146,136,142,135,122,158,149,157,137,141,114,60,127,141,146,136,137,147,135,112,135,162,134,145,144,77,128,137,136,134,109,124,135,139,130,140,144,138,138,135,149,131,94,134,139,137,140,136,124,135,134,157,134,137,139,137,126,132,156,43,144,145,129,124,135,137,129,136,134,158,46,46,44,49,36,51,159,37,36,44,23,39,84,48,39,70,34,58,129,43,123,62,41,43,40,166,22,49,140,137,13,47,38,46,49,29,32,125,157,38,45,48,152,44,59,62,132,26,46,38,44,44,62,59,40,67,103,137,43,115,45,44,47,65,158,41,48,106,44,52,43,41,52,39,42,44,50,46,155,36,48,66,46,43,40,140,52,54,64,152,43,52,52,47,27,53,42,36,137,56,131,43,41,81,74,56,66,136,60,149,149,75,73,150,68,49,69,68,44,136,56,139,139,61,140,146,118,124,81,125,39,79,63,66,73,63,64,61,63,58,141,76,72,132,62,73,139,61,59,109,43,127,147,115,138,73,59,63,51,67,180,77,135,141,135,136,158,125,151,158,142,39,154,134,151,153,154,139,157,139,146,157,151,160,153,148,159,149,158,132,123,133,126,154,127,90,123,36,131,131,138,139,129,134,129,132,114,121,141,119,124,154,141,68,115,149,114,100,119,165,124,136,119,132,128,120,129,88,118,131,129,128,140,127,130,56,134,128,130,129,130,108,61,124,131,127,133,139,156,132,126,132,65,132,152,136,132,157,133,130,131,115,137,127,128,112,156,138,132,133,138,114,39,126,133,139,140,70,61,151,149,45,64,169,152,155,58,133,136,70,143,168,127,38,61,25,68,77,69,67,72,66,131,23,149,76,60,65,81,78,62,143,66,139,78,140,70,141,136,59,138,154,66,131,69,56,65,72,68,66,134,147,130,96,75,141,145,131,44,163,69,67,67,63,64,126,145,138,135,117,27,148,138,146,147,127,145,139,135,118,27,147,138,147,147,105,33,59,114,106,56,54,91,97,105,68,82,45,93,63,113,53,58,69,52,44,53,108,61,45,57,60,50,37,47,109,158,72,50,58,106,75,62,53,114,96,53,61,44,86,46,111,69,76,96,61,51,57,48,60,88,38,53,49,105,50,54,94,36,69,58,65,67,53,112,52,85,50,52,64,58,46,71,92,51,55,67,103,60,43,57,89,108,60,35,53,46,58,107,68,51,53,44,38,43,47,100,47,53,57,47,53,57,54,101,41,98,50,110,57,104,47,106,45,77,54,51,53,49,150,62,52,45,39,51,100,77,79,57,53,95,53,46,94,49,55,51,93,50,52,60,67,141,109,109,55,70,39,67,41,55,70,39,67,42,45,41,61,71,76,77,52,103,55,41,29,38,47,152,41,83,77,80,74,44,46,76,76,107,37,31,56,75,56,37,41,50,39,72,77,33,69,75,38,80,67,66,75,74,39,143,38,77,56,42,76,113,75,89,44,77,43,55,40,70,36,33,113,106,80,14,147,47,45,80,65,41,72,75,78,71,29,49,53,42,77,41,74,30,64,44,69,44,44,149,41,45,77,44,50,90,72,76,31,42,75,35,69,73,48,31,21,49,72,54,33,73,42,54,46,43,63,64,67,84,42,78,70,40,93,60,148,49,56,69,54,149,70,49,37,68,73,31,49,75,86,46,50,108,58,34,51,78,81,62,49,78,74,46,37,109,33,110,63,150,41,43,71,50,81,40,58,17,41,28,77,66,34,87,80,44,42,43,158,51,95,38,35,77,78,106,69,64,32,80,55,73,64,58,40,94,78,38,77,69,41,49,46,54,54,112,112,105,125,113,113,106,126,119,107,113,111,123,115,133,123,123,109,111,110,125,125,107,109,113,119,109,165,112,112,129,112,114,107,122,118,108,115,100,111,93,111,114,131,108,121,114,110,127,110,111,113,111,114,119,111,112,126,113,113,98,110,113,111,99,113,112,108,127,116,95,109,115,100,104,109,122,91,135,110,101,134,108,110,111,118,106,110,107,113,102,124,119,119,41,114,91,73,94,54,80,53,165,164,47,53,92,48,146,82,147,58,54,33,42,44,51,121,164,38,62,77,115,77,111,44,39,92,110,97,114,74,90,38,121,141,70,139,23,139,101,94,44,93,83,109,53,73,80,121,41,103,73,89,77,99,36,96,158,111,144,32,115,151,37,55,55,78,44,79,49,30,117,124,115,88,151,91,116,75,75,43,89,57,94,95,41,126,128,43,36,57,85,90,75,99,75,101,61,87,53,70,170,82,64,61,96,51,96,37,55,56,111,104,90,80,91,76,103,52,39,155,31,86,35,95,157,74,42,81,47,70,115,82,95,95,111,31,65,114,67,86,90,75,90,89,85,90,80,88,87,83,91,90,77,86,91,88,86,88,84,91,93,87,74,90,73,84,84,92,77,91,87,74,91,92,84,75,91,73,88,91,90,84,91,78,88,91,75,90,87,84,68,151,142,107,167,149,157,139,152,101,94,109,109,151,149,37,106,108,125,103,159,108,110,107,101,107,111,141,151,108,104,111,150,107,155,152,153,115,147,102,109,100,125,112,115,151,44,161,108,111,96,150,104,107,118,97,94,155,99,149,147,160,100,150,139,141,135,146,96,111,108,103,109,114,100,93,92,91,110,93,98,156,104,122,143,156,111,128,94,92,140,94,156,156,144,154,109,156,150,152,142,121,94,145,139,107,94,95,105,125,106,163,101,108,140,153,135,151,110,106,157,125,130,158,110,93,101,159,153,157,108,148,145,154,93,93,104,106,158,147,38,99,164,114,164,115,160,116,95,78,142,103,135,97,108,108,98,154,97,142,93,156,149,123,151,103,112,151,115,164,96,95,108,143,173,149,100,119,95,107,149,112,93,131,141,107,104,111,101,105,92,101,99,98,93,160,151,104,110,147,139,149,152,100,149,106,97,95,155,158,142,157,143,113,114,138,117,155,92,111,144,160,151,54,101,115,109,150,151,149,146,124,100,133,160,79,122,109,110,139,144,92,161,164,78,70,144,84,153,148,176,84,152,159,160,156,82,72,186,101,171,55,143,88,150,143,186,151,78,83,90,174,131,80,169,176,69,96,141,82,73,135,166,81,83,148,146,89,77,154,145,138,85,152,81,149,98,153,80,115,168,169,68,107,155,93,97,91,84,153,82,83,179,179,158,160,80,93,78,87,166,80,83,95,160,65,94,151,153,78,168,59,181,81,97,171,157,86,96,107,157,163,75,119,89,86,85,165,48,67,161,98,81,53,156,75,151,85,179,80,85,90,78,140,96,156,162,82,89,159,159,97,155,138,80,148,82,83,173,155,174,82,90,85,85,81,60,147,181,85,82,70,80,79,162,163,159,164,86,154,81,89,82,79,79,178,76,150,75,148,173,151,149,87,82,156,153,153,81,81,173,145,147,112,128,156,154,90,68,148,130,83,76,81,82,156,69,152,98,86,152,83,71,111,175,156,152,87,145,153,158,151,153,87,67,144,163,79,164,82,146,78,148,77,174,151,158,160,95,152,149,163,152,160,92,156,64,122,88,151,153,153,77,87,144,58,103,158,103]},\"selected\":{\"id\":\"5103b363-79cb-4881-84e6-8296e35ac653\",\"type\":\"Selection\"},\"selection_policy\":{\"id\":\"2972956f-052a-49b4-b7c1-2704ff19e1ac\",\"type\":\"UnionRenderers\"}},\"id\":\"09540cfb-8512-4538-aef0-b802b239fccd\",\"type\":\"ColumnDataSource\"},{\"attributes\":{},\"id\":\"31b83958-dd24-410a-a38d-7256c3883a58\",\"type\":\"LinearScale\"},{\"attributes\":{\"source\":{\"id\":\"99795281-4151-4dcb-bf97-1d31b3959c6f\",\"type\":\"ColumnDataSource\"}},\"id\":\"7f7e8af8-a31d-4328-a661-b0e0288624a3\",\"type\":\"CDSView\"},{\"attributes\":{},\"id\":\"5103b363-79cb-4881-84e6-8296e35ac653\",\"type\":\"Selection\"},{\"attributes\":{\"below\":[{\"id\":\"ec533a38-37c3-4443-86b1-b04c623301dc\",\"type\":\"LinearAxis\"}],\"left\":[{\"id\":\"f278be33-3d2e-4583-adbe-e553f511e2d2\",\"type\":\"LinearAxis\"}],\"renderers\":[{\"id\":\"ec533a38-37c3-4443-86b1-b04c623301dc\",\"type\":\"LinearAxis\"},{\"id\":\"2275392c-a18b-463e-8101-583a6f33e48a\",\"type\":\"Grid\"},{\"id\":\"f278be33-3d2e-4583-adbe-e553f511e2d2\",\"type\":\"LinearAxis\"},{\"id\":\"f4c742be-19eb-44cf-9cef-ae36609c0351\",\"type\":\"Grid\"},{\"id\":\"2bac1e16-f042-47e8-bd95-862722b49394\",\"type\":\"BoxAnnotation\"},{\"id\":\"0e1e69a8-3a0c-4715-9ddc-f70b4b83e589\",\"type\":\"BoxAnnotation\"},{\"id\":\"5e75f700-e5df-404d-b6a7-3451f3c706c6\",\"type\":\"PolyAnnotation\"},{\"id\":\"ba853cb5-5dcd-4027-b006-9a42078b2750\",\"type\":\"PolyAnnotation\"},{\"id\":\"eb4d4e2b-eabf-44bd-aae4-8f6a145e26ed\",\"type\":\"GlyphRenderer\"},{\"id\":\"92ba3cec-b0ef-4da7-9c76-80b64e9f4818\",\"type\":\"GlyphRenderer\"},{\"id\":\"88008856-4f95-4205-8791-5b7733417c30\",\"type\":\"GlyphRenderer\"}],\"title\":{\"id\":\"5769b447-20aa-4fa6-b85d-07f9746d38ba\",\"type\":\"Title\"},\"toolbar\":{\"id\":\"ececc72f-b2d3-4eb0-a112-efc05e9dcedc\",\"type\":\"Toolbar\"},\"x_range\":{\"id\":\"d27ab965-8c72-48f6-ae35-1c1b6d58c9fc\",\"type\":\"Range1d\"},\"x_scale\":{\"id\":\"24e255ac-2752-4e4c-8e76-12ec92c22ec3\",\"type\":\"LinearScale\"},\"y_range\":{\"id\":\"96d6bbf8-c6d7-40fe-b784-332ede70d220\",\"type\":\"Range1d\"},\"y_scale\":{\"id\":\"31b83958-dd24-410a-a38d-7256c3883a58\",\"type\":\"LinearScale\"}},\"id\":\"2a97ca9b-651c-4a15-a35f-55b063a3c07a\",\"subtype\":\"Figure\",\"type\":\"Plot\"},{\"attributes\":{\"anchor\":\"bottom_left\",\"h\":{\"units\":\"data\",\"value\":200},\"url\":{\"field\":\"url\"},\"w\":{\"units\":\"data\",\"value\":200},\"x\":{\"value\":0},\"y\":{\"value\":0}},\"id\":\"be0a93c1-30b3-4dfd-9675-a1fa098989c2\",\"type\":\"ImageURL\"},{\"attributes\":{},\"id\":\"89e245f8-8a65-4891-997d-cd4af1ecc28f\",\"type\":\"Selection\"},{\"attributes\":{\"callback\":null,\"data\":{\"url\":[\"map.jpg\"]},\"selected\":{\"id\":\"3321f808-665d-400f-a1ee-9d30f565c135\",\"type\":\"Selection\"},\"selection_policy\":{\"id\":\"ddafebc3-fefe-4324-8cfa-f8e2039ce989\",\"type\":\"UnionRenderers\"}},\"id\":\"99795281-4151-4dcb-bf97-1d31b3959c6f\",\"type\":\"ColumnDataSource\"},{\"attributes\":{\"fill_alpha\":{\"value\":0.1},\"fill_color\":{\"value\":\"#1f77b4\"},\"line_alpha\":{\"value\":0.1},\"line_color\":{\"value\":\"#1f77b4\"},\"size\":{\"units\":\"screen\",\"value\":7},\"x\":{\"field\":\"x\"},\"y\":{\"field\":\"y\"}},\"id\":\"3f6ccfde-7520-48e6-9ca0-a7cbf6782d3d\",\"type\":\"Circle\"},{\"attributes\":{},\"id\":\"9f52a20c-296b-4d2c-b417-d4298d33b45c\",\"type\":\"CrosshairTool\"},{\"attributes\":{},\"id\":\"388bbe55-75c0-4b00-8666-f5427a419fbe\",\"type\":\"PanTool\"},{\"attributes\":{\"callback\":null,\"renderers\":\"auto\",\"tooltips\":[[\"Bird type\",\"@name\"],[\"Position\",\"(@x, @y)\"]]},\"id\":\"20128850-2e99-41a3-b3f7-ab99addb49b7\",\"type\":\"HoverTool\"},{\"attributes\":{},\"id\":\"eaba955c-3a7a-44b5-ad6f-f4e68edf6eb3\",\"type\":\"WheelZoomTool\"},{\"attributes\":{},\"id\":\"9f2f4a5b-f9af-4540-9ae1-b50bcc6d68e5\",\"type\":\"ZoomInTool\"},{\"attributes\":{},\"id\":\"871dbc8d-e980-4c88-b7c6-8d1c439f7291\",\"type\":\"ZoomOutTool\"},{\"attributes\":{\"overlay\":{\"id\":\"2bac1e16-f042-47e8-bd95-862722b49394\",\"type\":\"BoxAnnotation\"}},\"id\":\"c7f21117-815d-489e-9e86-277c878b2446\",\"type\":\"BoxZoomTool\"},{\"attributes\":{},\"id\":\"a6724b58-5b97-4b0a-9c13-0e5a22949d63\",\"type\":\"UndoTool\"},{\"attributes\":{},\"id\":\"65cf9713-47d4-4103-a4ee-30e54c1af498\",\"type\":\"RedoTool\"},{\"attributes\":{},\"id\":\"328a90f5-5af7-4a93-b2ca-c731266094a7\",\"type\":\"ResetTool\"},{\"attributes\":{\"callback\":null},\"id\":\"b296ae86-cee2-4089-9609-be271139a129\",\"type\":\"TapTool\"},{\"attributes\":{},\"id\":\"f4249fea-d74f-462e-b09a-fcd5c4d3cf8c\",\"type\":\"SaveTool\"},{\"attributes\":{\"callback\":null,\"overlay\":{\"id\":\"0e1e69a8-3a0c-4715-9ddc-f70b4b83e589\",\"type\":\"BoxAnnotation\"}},\"id\":\"dbeb790b-769b-4db3-a545-97575641933f\",\"type\":\"BoxSelectTool\"},{\"attributes\":{\"callback\":null,\"overlay\":{\"id\":\"5e75f700-e5df-404d-b6a7-3451f3c706c6\",\"type\":\"PolyAnnotation\"}},\"id\":\"d7647070-ce0b-491b-ba20-f139c55a6668\",\"type\":\"PolySelectTool\"},{\"attributes\":{\"fill_alpha\":{\"value\":0.5},\"fill_color\":{\"field\":\"fill_color\"},\"line_alpha\":{\"value\":0.5},\"line_color\":{\"field\":\"line_color\"},\"size\":{\"units\":\"screen\",\"value\":7},\"x\":{\"field\":\"x\"},\"y\":{\"field\":\"y\"}},\"id\":\"41e16eaa-7400-43d3-b5c5-ba6da380c8a2\",\"type\":\"Circle\"},{\"attributes\":{\"callback\":null,\"overlay\":{\"id\":\"ba853cb5-5dcd-4027-b006-9a42078b2750\",\"type\":\"PolyAnnotation\"}},\"id\":\"265b2c50-623e-4cda-b273-29a23f9a6d18\",\"type\":\"LassoSelectTool\"},{\"attributes\":{\"bottom_units\":\"screen\",\"fill_alpha\":{\"value\":0.5},\"fill_color\":{\"value\":\"lightgrey\"},\"left_units\":\"screen\",\"level\":\"overlay\",\"line_alpha\":{\"value\":1.0},\"line_color\":{\"value\":\"black\"},\"line_dash\":[4,4],\"line_width\":{\"value\":2},\"plot\":null,\"render_mode\":\"css\",\"right_units\":\"screen\",\"top_units\":\"screen\"},\"id\":\"2bac1e16-f042-47e8-bd95-862722b49394\",\"type\":\"BoxAnnotation\"},{\"attributes\":{\"anchor\":\"bottom_left\",\"h\":{\"units\":\"data\",\"value\":200},\"url\":{\"field\":\"url\"},\"w\":{\"units\":\"data\",\"value\":200},\"x\":{\"value\":0},\"y\":{\"value\":0}},\"id\":\"5cd00dda-d9be-4bce-aba6-6c5ded0fcd6b\",\"type\":\"ImageURL\"},{\"attributes\":{\"callback\":null,\"data\":{\"x\":[140,63,70,78,60,126,71,78,61,45,132,61,35,40,110],\"y\":[119,153,136,150,90,103,121,62,145,39,106,20,160,125,121]},\"selected\":{\"id\":\"89e245f8-8a65-4891-997d-cd4af1ecc28f\",\"type\":\"Selection\"},\"selection_policy\":{\"id\":\"6fa95780-ec86-4752-82f1-2b1b8b6d6190\",\"type\":\"UnionRenderers\"}},\"id\":\"41105a94-2fda-4ab9-9d9e-f477d8878ac3\",\"type\":\"ColumnDataSource\"},{\"attributes\":{\"bottom_units\":\"screen\",\"fill_alpha\":{\"value\":0.5},\"fill_color\":{\"value\":\"lightgrey\"},\"left_units\":\"screen\",\"level\":\"overlay\",\"line_alpha\":{\"value\":1.0},\"line_color\":{\"value\":\"black\"},\"line_dash\":[4,4],\"line_width\":{\"value\":2},\"plot\":null,\"render_mode\":\"css\",\"right_units\":\"screen\",\"top_units\":\"screen\"},\"id\":\"0e1e69a8-3a0c-4715-9ddc-f70b4b83e589\",\"type\":\"BoxAnnotation\"},{\"attributes\":{\"source\":{\"id\":\"09540cfb-8512-4538-aef0-b802b239fccd\",\"type\":\"ColumnDataSource\"}},\"id\":\"2f0d783f-29cf-4527-9c37-2978ccdcc898\",\"type\":\"CDSView\"},{\"attributes\":{\"data_source\":{\"id\":\"41105a94-2fda-4ab9-9d9e-f477d8878ac3\",\"type\":\"ColumnDataSource\"},\"glyph\":{\"id\":\"e898873f-68ae-420c-8ae6-2172515a3331\",\"type\":\"Circle\"},\"hover_glyph\":null,\"muted_glyph\":null,\"nonselection_glyph\":{\"id\":\"d102f7b2-1215-4e48-bf39-a8fc2032e1e8\",\"type\":\"Circle\"},\"selection_glyph\":null,\"view\":{\"id\":\"86b896df-24a2-4e67-9dc6-4a3447797446\",\"type\":\"CDSView\"}},\"id\":\"88008856-4f95-4205-8791-5b7733417c30\",\"type\":\"GlyphRenderer\"},{\"attributes\":{\"source\":{\"id\":\"41105a94-2fda-4ab9-9d9e-f477d8878ac3\",\"type\":\"ColumnDataSource\"}},\"id\":\"86b896df-24a2-4e67-9dc6-4a3447797446\",\"type\":\"CDSView\"},{\"attributes\":{},\"id\":\"24e255ac-2752-4e4c-8e76-12ec92c22ec3\",\"type\":\"LinearScale\"},{\"attributes\":{\"dimension\":1,\"plot\":{\"id\":\"2a97ca9b-651c-4a15-a35f-55b063a3c07a\",\"subtype\":\"Figure\",\"type\":\"Plot\"},\"ticker\":{\"id\":\"25237e57-122a-4354-b935-12bd801f8063\",\"type\":\"BasicTicker\"}},\"id\":\"f4c742be-19eb-44cf-9cef-ae36609c0351\",\"type\":\"Grid\"},{\"attributes\":{\"plot\":null,\"text\":\"\"},\"id\":\"5769b447-20aa-4fa6-b85d-07f9746d38ba\",\"type\":\"Title\"},{\"attributes\":{\"formatter\":{\"id\":\"005c8dbe-2099-4081-96e0-793db96933d1\",\"type\":\"BasicTickFormatter\"},\"plot\":{\"id\":\"2a97ca9b-651c-4a15-a35f-55b063a3c07a\",\"subtype\":\"Figure\",\"type\":\"Plot\"},\"ticker\":{\"id\":\"37835188-96dd-4a17-830c-b74d8ef5e006\",\"type\":\"BasicTicker\"}},\"id\":\"ec533a38-37c3-4443-86b1-b04c623301dc\",\"type\":\"LinearAxis\"},{\"attributes\":{\"fill_color\":{\"value\":\"red\"},\"line_color\":{\"value\":\"red\"},\"size\":{\"units\":\"screen\",\"value\":15},\"x\":{\"field\":\"x\"},\"y\":{\"field\":\"y\"}},\"id\":\"e898873f-68ae-420c-8ae6-2172515a3331\",\"type\":\"Circle\"},{\"attributes\":{},\"id\":\"37835188-96dd-4a17-830c-b74d8ef5e006\",\"type\":\"BasicTicker\"},{\"attributes\":{\"fill_alpha\":{\"value\":0.1},\"fill_color\":{\"value\":\"#1f77b4\"},\"line_alpha\":{\"value\":0.1},\"line_color\":{\"value\":\"#1f77b4\"},\"size\":{\"units\":\"screen\",\"value\":15},\"x\":{\"field\":\"x\"},\"y\":{\"field\":\"y\"}},\"id\":\"d102f7b2-1215-4e48-bf39-a8fc2032e1e8\",\"type\":\"Circle\"},{\"attributes\":{\"plot\":{\"id\":\"2a97ca9b-651c-4a15-a35f-55b063a3c07a\",\"subtype\":\"Figure\",\"type\":\"Plot\"},\"ticker\":{\"id\":\"37835188-96dd-4a17-830c-b74d8ef5e006\",\"type\":\"BasicTicker\"}},\"id\":\"2275392c-a18b-463e-8101-583a6f33e48a\",\"type\":\"Grid\"},{\"attributes\":{},\"id\":\"005c8dbe-2099-4081-96e0-793db96933d1\",\"type\":\"BasicTickFormatter\"},{\"attributes\":{\"formatter\":{\"id\":\"56cd4ec3-5b49-482c-911f-d9a9ee3b4668\",\"type\":\"BasicTickFormatter\"},\"plot\":{\"id\":\"2a97ca9b-651c-4a15-a35f-55b063a3c07a\",\"subtype\":\"Figure\",\"type\":\"Plot\"},\"ticker\":{\"id\":\"25237e57-122a-4354-b935-12bd801f8063\",\"type\":\"BasicTicker\"}},\"id\":\"f278be33-3d2e-4583-adbe-e553f511e2d2\",\"type\":\"LinearAxis\"},{\"attributes\":{},\"id\":\"25237e57-122a-4354-b935-12bd801f8063\",\"type\":\"BasicTicker\"},{\"attributes\":{},\"id\":\"56cd4ec3-5b49-482c-911f-d9a9ee3b4668\",\"type\":\"BasicTickFormatter\"}],\"root_ids\":[\"2a97ca9b-651c-4a15-a35f-55b063a3c07a\"]},\"title\":\"Bokeh Application\",\"version\":\"0.12.16\"}};\n",
       "  var render_items = [{\"docid\":\"5d358642-ac0f-4fee-8cec-67ebc8591bbb\",\"elementid\":\"1b580a3b-1638-4847-a365-de91ac33283c\",\"modelid\":\"2a97ca9b-651c-4a15-a35f-55b063a3c07a\"}];\n",
       "  root.Bokeh.embed.embed_items_notebook(docs_json, render_items);\n",
       "\n",
       "  }\n",
       "  if (root.Bokeh !== undefined) {\n",
       "    embed_document(root);\n",
       "  } else {\n",
       "    var attempts = 0;\n",
       "    var timer = setInterval(function(root) {\n",
       "      if (root.Bokeh !== undefined) {\n",
       "        embed_document(root);\n",
       "        clearInterval(timer);\n",
       "      }\n",
       "      attempts++;\n",
       "      if (attempts > 100) {\n",
       "        console.log(\"Bokeh: ERROR: Unable to run BokehJS code because BokehJS library is missing\")\n",
       "        clearInterval(timer);\n",
       "      }\n",
       "    }, 10, root)\n",
       "  }\n",
       "})(window);"
      ],
      "application/vnd.bokehjs_exec.v0+json": ""
     },
     "metadata": {
      "application/vnd.bokehjs_exec.v0+json": {
       "id": "2a97ca9b-651c-4a15-a35f-55b063a3c07a"
      }
     },
     "output_type": "display_data"
    }
   ],
   "source": [
    "source = ColumnDataSource(data=dict(x=[], y=[], name=[],))\n",
    "source.data = dict(\n",
    "    x=df['X'],\n",
    "    y=df['Y'],\n",
    "    name=df[\"English_name\"],\n",
    ")\n",
    "\n",
    "TOOLS=\"crosshair,pan,wheel_zoom,zoom_in,zoom_out,box_zoom,undo,redo,reset,tap,save,box_select,poly_select,lasso_select,\"\n",
    "\n",
    "# put details on cursor\n",
    "hover = HoverTool()\n",
    "hover.tooltips = [\n",
    "    (\"Bird type\", \"@name\"),\n",
    "    (\"Position\", \"(@x, @y)\"),\n",
    "]\n",
    "\n",
    "p = figure(x_range=(0,200), y_range=(0,200), tools=TOOLS)\n",
    "\n",
    "p.tools.append(hover)\n",
    "\n",
    "# plot map\n",
    "p.image_url( url=[\"map.jpg\"],\n",
    "             x=0, y=0, w=200, h=200, anchor=\"bottom_left\")\n",
    "\n",
    "# plot all birds\n",
    "species_list = np.array(Category20[len(species_list)])\n",
    "p.scatter(df[\"X\"], df[\"Y\"], size=7, alpha=0.5, color=species_list[species_index])\n",
    "\n",
    "# plot the 15 \"test birds\"\n",
    "p.scatter(df_test[\"X\"], df_test[\"Y\"], size=15, color=\"red\")\n",
    "show(p)"
   ]
  }
 ],
 "metadata": {
  "kernelspec": {
   "display_name": "Python 3",
   "language": "python",
   "name": "python3"
  },
  "language_info": {
   "codemirror_mode": {
    "name": "ipython",
    "version": 3
   },
   "file_extension": ".py",
   "mimetype": "text/x-python",
   "name": "python",
   "nbconvert_exporter": "python",
   "pygments_lexer": "ipython3",
   "version": "3.6.5"
  },
  "toc": {
   "base_numbering": 1,
   "nav_menu": {},
   "number_sections": true,
   "sideBar": true,
   "skip_h1_title": true,
   "title_cell": "Table of Contents",
   "title_sidebar": "Contents",
   "toc_cell": false,
   "toc_position": {},
   "toc_section_display": true,
   "toc_window_display": false
  },
  "varInspector": {
   "cols": {
    "lenName": 16,
    "lenType": 16,
    "lenVar": 40
   },
   "kernels_config": {
    "python": {
     "delete_cmd_postfix": "",
     "delete_cmd_prefix": "del ",
     "library": "var_list.py",
     "varRefreshCmd": "print(var_dic_list())"
    },
    "r": {
     "delete_cmd_postfix": ") ",
     "delete_cmd_prefix": "rm(",
     "library": "var_list.r",
     "varRefreshCmd": "cat(var_dic_list()) "
    }
   },
   "types_to_exclude": [
    "module",
    "function",
    "builtin_function_or_method",
    "instance",
    "_Feature"
   ],
   "window_display": false
  }
 },
 "nbformat": 4,
 "nbformat_minor": 2
}
